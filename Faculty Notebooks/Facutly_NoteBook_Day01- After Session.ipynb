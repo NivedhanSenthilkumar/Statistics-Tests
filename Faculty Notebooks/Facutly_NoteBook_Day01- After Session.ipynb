{
 "cells": [
  {
   "cell_type": "markdown",
   "metadata": {},
   "source": [
    "# Faculty Notebook - Day - 01"
   ]
  },
  {
   "cell_type": "code",
   "execution_count": 26,
   "metadata": {},
   "outputs": [],
   "source": [
    "import scipy.stats as stats\n",
    "import numpy as np\n",
    "import pandas as pd\n",
    "import matplotlib.pyplot as plt\n",
    "import seaborn as sns"
   ]
  },
  {
   "cell_type": "markdown",
   "metadata": {},
   "source": [
    "<a id=\"var\"></a>\n",
    "#  Random Variable"
   ]
  },
  {
   "cell_type": "markdown",
   "metadata": {},
   "source": [
    "It is defined as a variable that takes all the possible values of a random experiment.\n",
    "\n",
    "### Example:\n",
    "\n",
    "    Consider rolling a die as a random experiment; then the random variable (X) takes the values 1, 2, 3, 4, 5, and 6.   "
   ]
  },
  {
   "cell_type": "markdown",
   "metadata": {},
   "source": [
    "<a id=\"rv\"></a>\n",
    "##  Types of Random Variable"
   ]
  },
  {
   "cell_type": "markdown",
   "metadata": {},
   "source": [
    "Two types of random variables:- discrete and continuous.\n",
    "\n",
    "`Discrete Random Variable`: A random variable that takes the finite or countably infinite number of values is called a discrete random variable. Let us study some of the examples of a discrete random variable:\n",
    "\n",
    "        1. Number of occupied car parking spots in the amusement park\n",
    "        2. Number of students selected in the exam hall\n",
    "        3. Number of home delivery orders taken by a restaurant in a day\n",
    "        4. Number of passengers passed through an airport's security check"
   ]
  },
  {
   "cell_type": "markdown",
   "metadata": {},
   "source": [
    "`Continuous Random Variable`: A random variable that takes an infinite number of values in a range is called a continuous random variable. Let us study some of the examples of a discrete random variable:\n",
    "\n",
    "        1. Weight of people registered for the fitness program\n",
    "        2. The diameter of the water pipe produced in a factory\n",
    "        3. The time between two consecutive bill payments in a supermarket\n",
    "        4. Mileage of a car"
   ]
  },
  {
   "cell_type": "markdown",
   "metadata": {},
   "source": [
    "# Introduction to Probability distributions:"
   ]
  },
  {
   "cell_type": "markdown",
   "metadata": {},
   "source": [
    "<a id=\"dist\"></a>\n",
    "# Probability Distributions"
   ]
  },
  {
   "cell_type": "markdown",
   "metadata": {},
   "source": [
    "Probability distributions are used to understand and analyze the patterns in the data. It is a mathematical function that gives the probabilities of all the outcomes of an experiment. \n",
    "\n",
    "There are two types of probability distributions based on the type of random variable; discrete and continuous probability distributions."
   ]
  },
  {
   "cell_type": "markdown",
   "metadata": {},
   "source": [
    "<a id=\"dis\"></a>\n",
    "##  Discrete Probability Distributions"
   ]
  },
  {
   "cell_type": "markdown",
   "metadata": {},
   "source": [
    "It is the probability distribution related to the discrete random variable. In this case, the `probability mass function (pmf)` gives the probability that a variable is equal to a specific value. For a discrete random variable `X`, pmf of X is given as $ P(X = x_{i})$, where $x_{i}$ for i = 1, 2, ..., n are the values taken by the variable X.\n",
    "\n",
    "The sum of all the probabilities is always 1. i.e. $\\sum_{i = 1}^{n} P(X = x_{i}) = 1$"
   ]
  },
  {
   "cell_type": "markdown",
   "metadata": {},
   "source": [
    "For a discrete random variable X with values $x_{1}, x_{2}, ..., x_{n}$ the `cumulative distribution function (cdf)` is denoted by F(x) and defined as:\n",
    "\n",
    "<p style='text-indent:25em'> <strong> $ F(x_{i}) = P[X \\leq x_{i}]$</strong> </p>\n",
    "\n",
    "The cdf of a random variable returns the probability that the variable takes all the values less than or equal to the specific value."
   ]
  },
  {
   "cell_type": "markdown",
   "metadata": {},
   "source": [
    "## Binomial  distribution"
   ]
  },
  {
   "cell_type": "markdown",
   "metadata": {},
   "source": [
    "A discrete variable X taking values 0, 1, 2,..., n follows a binomial distribution with parameters `n` and `p`, if the pmf of X is given by:\n",
    "\n",
    "<p style='text-indent:25em'> <strong> $ P(X = x) = {n \\choose x} p^{x}q^{n-x}$</strong> $\\hspace{2cm}$  x = 0, 1, ..., n </p>\n",
    "\n",
    "`p` denotes the probability of success of an experiment and `q` denotes the probability of failure. (where, p + q = 1)\n",
    "\n",
    "If `n` independent bernoulli trials (each with `p` as probability of success) are executed then the number of successes follows a binomial distribution.\n",
    "\n",
    "The mean and variance of the distribution is given as:<br>\n",
    "\n",
    "Mean = $np$\n",
    "\n",
    "Variance = $npq$ "
   ]
  },
  {
   "cell_type": "markdown",
   "metadata": {},
   "source": [
    "### Some important functions in Python for Binomial distribution:\n",
    "\n",
    "#### 1) Probability mass function\n",
    "-----------\n",
    "\n",
    "##### scipy.stats.binom.pmf gives the probability mass function for the binomial distribution\n",
    "----\n",
    "\n",
    "binomial = scipy.stats.binom.pmf (k,n,p), \n",
    "* where k is an array and takes values in {0, 1,..., n}\n",
    "* n and p are shape parameters for the binomial distribution\n",
    "\n",
    "The output, binomial, gives probability of binomial distribution function in terms of array.\n",
    "\n",
    "#### 2) Cumulative Distribution function\n",
    "------\n",
    "\n",
    "cumbinomial = scipy.stats.binom.cdf(k,n,p) gives cumulative binomial distribution.\n",
    "\n",
    "The output, cumbinomial, gives cumulative probability of binomial distribution function in terms of array.\n",
    "\n"
   ]
  },
  {
   "cell_type": "markdown",
   "metadata": {},
   "source": [
    "### Example 1: \n",
    "\n",
    "##### A LED bulb manufacturing company regularly conducts quality checks at specified periods on the products it manufactures.Historically, the failure rate for LED light bulbs that the company manufactures is 5%. Suppose a random sample of 10 LED light bulbs is selected.What is the probability that \n",
    "\n",
    "\n",
    "-------------------\n",
    "* a) None of the LED bulbs are defective?\n",
    "------------\n",
    "* b) Exactly one of the LED bulbs is defective?\n",
    "---------------\n",
    "* c) Two or fewer of the LED bulbs are defective?\n",
    "----------\n",
    "* d) Three or more of the LED bulbs are defective"
   ]
  },
  {
   "cell_type": "code",
   "execution_count": 3,
   "metadata": {},
   "outputs": [],
   "source": [
    "p = 0.05\n",
    "n=10\n",
    "r=0"
   ]
  },
  {
   "cell_type": "code",
   "execution_count": null,
   "metadata": {},
   "outputs": [],
   "source": [
    "# stats.binom.pmf(r,n,p)"
   ]
  },
  {
   "cell_type": "code",
   "execution_count": 4,
   "metadata": {},
   "outputs": [
    {
     "data": {
      "text/plain": [
       "0.5987369392383789"
      ]
     },
     "execution_count": 4,
     "metadata": {},
     "output_type": "execute_result"
    }
   ],
   "source": [
    "stats.binom.pmf(r,n,p)"
   ]
  },
  {
   "cell_type": "code",
   "execution_count": 5,
   "metadata": {},
   "outputs": [
    {
     "data": {
      "text/plain": [
       "0.31512470486230504"
      ]
     },
     "execution_count": 5,
     "metadata": {},
     "output_type": "execute_result"
    }
   ],
   "source": [
    "p = 0.05\n",
    "n=10\n",
    "r=1\n",
    "stats.binom.pmf(r,n,p)"
   ]
  },
  {
   "cell_type": "code",
   "execution_count": 6,
   "metadata": {},
   "outputs": [
    {
     "data": {
      "text/plain": [
       "0.9884964426207031"
      ]
     },
     "execution_count": 6,
     "metadata": {},
     "output_type": "execute_result"
    }
   ],
   "source": [
    "p = 0.05\n",
    "n=10\n",
    "r=2\n",
    "stats.binom.cdf(r,n,p)"
   ]
  },
  {
   "cell_type": "code",
   "execution_count": 7,
   "metadata": {},
   "outputs": [
    {
     "data": {
      "text/plain": [
       "0.011503557379296876"
      ]
     },
     "execution_count": 7,
     "metadata": {},
     "output_type": "execute_result"
    }
   ],
   "source": [
    "p = 0.05\n",
    "n=10\n",
    "r=2\n",
    "stats.binom.sf(r,n,p)"
   ]
  },
  {
   "cell_type": "markdown",
   "metadata": {},
   "source": [
    "#### Suppose a study performed at St. Jude’s Hospital shows that 30% of all patients arriving at the emergency room are subsequently admitted to the hospital for at least one night. Assuming that a sample of seven arrived at the emergency room each day:\n",
    "\n",
    "#### a. What is the probability that five or more in the sample of seven will require admittance to the hospital?\n",
    "#### b. What is the expected number of patients in the sample who will require admittance to the hospital?\n",
    "\n",
    "#### c. Plot the pmf and cdf graph.\n"
   ]
  },
  {
   "cell_type": "code",
   "execution_count": 9,
   "metadata": {},
   "outputs": [
    {
     "data": {
      "text/plain": [
       "0.028795499999999998"
      ]
     },
     "execution_count": 9,
     "metadata": {},
     "output_type": "execute_result"
    }
   ],
   "source": [
    "p=0.3\n",
    "n=7\n",
    "r=4\n",
    "stats.binom.sf(r,n,p)"
   ]
  },
  {
   "cell_type": "code",
   "execution_count": 10,
   "metadata": {},
   "outputs": [
    {
     "data": {
      "text/plain": [
       "2.1"
      ]
     },
     "execution_count": 10,
     "metadata": {},
     "output_type": "execute_result"
    }
   ],
   "source": [
    "n*p"
   ]
  },
  {
   "cell_type": "code",
   "execution_count": 15,
   "metadata": {},
   "outputs": [],
   "source": [
    "# pmf\n",
    "\n",
    "n=7\n",
    "p=0.3\n",
    "pmf_list=[]\n",
    "for r in range(n+1): # 0 to 7\n",
    "    pval= stats.binom.pmf(r,n,p)\n",
    "    pmf_list.append(pval)\n",
    "pmf_list"
   ]
  },
  {
   "cell_type": "code",
   "execution_count": 20,
   "metadata": {},
   "outputs": [
    {
     "data": {
      "image/png": "[encoded data removed]",
      "text/plain": [
       "<Figure size 432x288 with 1 Axes>"
      ]
     },
     "metadata": {
      "needs_background": "light"
     },
     "output_type": "display_data"
    }
   ],
   "source": [
    "rv  = list(range(n+1))\n",
    "plt.plot(rv,pmf_list,marker='o')\n",
    "plt.title('RV VS PMF')\n",
    "plt.xlabel('RV')\n",
    "plt.ylabel('PMF')\n",
    "plt.show()"
   ]
  },
  {
   "cell_type": "code",
   "execution_count": 23,
   "metadata": {},
   "outputs": [],
   "source": [
    "n=7\n",
    "p=0.3\n",
    "cdf_list=[]\n",
    "for r in range(n+1): # 0 to 7\n",
    "    pval= stats.binom.cdf(r,n,p)\n",
    "    cdf_list.append(pval)"
   ]
  },
  {
   "cell_type": "code",
   "execution_count": 25,
   "metadata": {},
   "outputs": [
    {
     "data": {
      "image/png": "[encoded data removed]",
      "text/plain": [
       "<Figure size 432x288 with 1 Axes>"
      ]
     },
     "metadata": {
      "needs_background": "light"
     },
     "output_type": "display_data"
    }
   ],
   "source": [
    "rv  = list(range(n+1))\n",
    "plt.plot(rv,cdf_list,marker='o')\n",
    "plt.title('RV VS CDF')\n",
    "plt.xlabel('RV')\n",
    "plt.ylabel('CDF')\n",
    "plt.show()"
   ]
  },
  {
   "cell_type": "code",
   "execution_count": null,
   "metadata": {},
   "outputs": [],
   "source": []
  },
  {
   "cell_type": "markdown",
   "metadata": {},
   "source": [
    "### Practice:\n",
    "\n",
    "#### 1. Heaven Furnitures (HF) sells furniture like sofas, beds and tables. It is observed that 25% of their customers complain about the furniture purchased by them for many reasons. On Tuesday, 20 customers purchased furniture products from HF. \n",
    "\n",
    "\n",
    "#### a. Calculate the probability that exactly 3 customers will complain about the purchased products.\n",
    "#### b. Calculate the probability that atleast 3 customers will complain about the purchased products.\n",
    "#### c. Calculate the probability that atmost 3 customers will complain about the purchased products.\n",
    "#### d. Calculate the probability that from 3  to 5 customers will complain about the purchased products.\n",
    "#### e. Plot the pmf and cdf."
   ]
  },
  {
   "cell_type": "markdown",
   "metadata": {},
   "source": [
    "<a id=\"bernoulli\"></a>\n",
    "###  Bernoulli Distribution"
   ]
  },
  {
   "cell_type": "markdown",
   "metadata": {},
   "source": [
    "A discrete variable X taking only two values (say 0 and 1) follows a bernoulli distribution with parameter `p` if the pmf of X is given by:\n",
    "\n",
    "<p style='text-indent:25em'> <strong> $ P(X = x) = p^{x}q^{1-x}$</strong> $\\hspace{2cm}$  x = 0, 1 </p>\n",
    "\n",
    "`p` denotes the probability of success of an experiment and `q` denotes the probability of failure. (where, p + q = 1)\n",
    "\n",
    "The experiment associated with variable X is also known as the `Bernoulli trial`.\n",
    "\n",
    "The mean and variance of the distribution is given as:<br>\n",
    "\n",
    "Mean = $p$\n",
    "\n",
    "Variance = $q$ "
   ]
  },
  {
   "cell_type": "markdown",
   "metadata": {},
   "source": [
    "### Example:\n",
    "\n",
    "#### 1. If 7 out of 10 times a soccer player scores a goal for a direct free kick. What would be the probability that he scores a goal for the next free kick? "
   ]
  },
  {
   "cell_type": "code",
   "execution_count": 28,
   "metadata": {},
   "outputs": [],
   "source": [
    "p=7/10\n",
    "n=1\n",
    "r=1"
   ]
  },
  {
   "cell_type": "code",
   "execution_count": 29,
   "metadata": {},
   "outputs": [
    {
     "data": {
      "text/plain": [
       "0.7"
      ]
     },
     "execution_count": 29,
     "metadata": {},
     "output_type": "execute_result"
    }
   ],
   "source": [
    "stats.binom.pmf(r,n,p)"
   ]
  },
  {
   "cell_type": "markdown",
   "metadata": {},
   "source": [
    "### Poisson Distribution:"
   ]
  },
  {
   "cell_type": "markdown",
   "metadata": {},
   "source": [
    "A discrete variable X taking values 0, 1, 2,... follows a poisson distribution with parameter `m` (m > 0), if the pmf of X is given by:\n",
    "\n",
    "<p style='text-indent:25em'> <strong> $ P(X = x) = \\frac{e^{-m}m^{x}}{x!}$</strong> $\\hspace{2cm}$  x = 0, 1, 2,... </p>\n",
    "\n",
    "The mean and variance of the distribution is given as:<br>\n",
    "\n",
    "Mean = $m$ = Variance\n",
    "\n",
    "**Note:** Consider a variable X that follows a binomial distribution with parameters `n` and `p`. If n$\\rightarrow$$\\infty$ and p$\\rightarrow$0 then X follows a poison distribution with parameter `m = np`."
   ]
  },
  {
   "cell_type": "markdown",
   "metadata": {},
   "source": [
    "* This discrete distribution which also plays a major role in quality control. \n",
    "* The Poisson distribution is a discrete probability distribution for the counts of events that occur randomly in a given interval of time or space. In such areas of opportunity, there can be more than one occurrence. In such situations, Poisson distribution can be used to compute probabilities.\n",
    "* Examples include number of defects per item, number of defects per transformer produced. \n",
    "* Notes: Poisson Distribution helps to predict the arrival rate in a waiting line situation where a queue is formed and people wait to be served and the service rate is generally higher than the arrival rate.\n"
   ]
  },
  {
   "cell_type": "markdown",
   "metadata": {},
   "source": [
    "### Properties:\n",
    "* Mean                     μ  = λ\n",
    "* Standard deviation       σ  = √ μ\n",
    "* The Poisson distribution is the limit of binomial distribution as n approaches ∞and p approaches 0\n"
   ]
  },
  {
   "cell_type": "markdown",
   "metadata": {},
   "source": [
    "P(X = x) = $\\frac{e^\\lambda \\lambda^x}{x!} $\n",
    "where \n",
    "* P(x)              = Probability of x successes given an idea of  $\\lambda$\n",
    "* $\\lambda$ = Average number of successes\n",
    "* e                   = 2.71828 (based on natural logarithm)\n",
    "* x                    = successes per unit which can take values 0,1,2,3,... $\\infty$"
   ]
  },
  {
   "cell_type": "markdown",
   "metadata": {},
   "source": [
    "### Some important functions in Python for solving Poisson distribution problems\n",
    "\n",
    "#### 1) Probability Mass Function\n",
    "------------\n",
    "\n",
    "poisson =  scipy.stats.poisson.pmf(n, rate) where n is where n is an array like quantiles and rate is the mean \n",
    "It gives poisson distribution result in the form of an array.\n",
    "\n",
    "#### 2) Cumulative Distribution Function\n",
    "-----------\n",
    "\n",
    "poisson =  scipy.stats.poisson.cdf(n,rate) where n is where n is an array like quantiles and rate is the mean \n",
    "It gives cumulative density function result in the form of an array.\n"
   ]
  },
  {
   "cell_type": "markdown",
   "metadata": {},
   "source": [
    "#### Example: \n",
    "\n",
    "#### The number of work-related injuries per month in a manufacturing plant is known to follow a Poisson distribution, with a mean  of 2.5 work-related injuries a month. What is the probability that in a given month, \n",
    "\n",
    "\n",
    "---------------\n",
    "a) No work related injuries occur? \n",
    "\n",
    "b) At least one work-related injury occurs?\n",
    "\n",
    "c) At most 2 injuries occurs?\n",
    "\n",
    "d) Plot pmf and cdf graph"
   ]
  },
  {
   "cell_type": "code",
   "execution_count": 30,
   "metadata": {},
   "outputs": [
    {
     "data": {
      "text/plain": [
       "0.0820849986238988"
      ]
     },
     "execution_count": 30,
     "metadata": {},
     "output_type": "execute_result"
    }
   ],
   "source": [
    "lam=2.5\n",
    "r=0\n",
    "# stats.poisson.pmf(r,lambda)\n",
    "stats.poisson.pmf(r,lam)"
   ]
  },
  {
   "cell_type": "code",
   "execution_count": 31,
   "metadata": {
    "scrolled": true
   },
   "outputs": [
    {
     "data": {
      "text/plain": [
       "0.9179150013761012"
      ]
     },
     "execution_count": 31,
     "metadata": {},
     "output_type": "execute_result"
    }
   ],
   "source": [
    "lam=2.5\n",
    "r=0\n",
    "stats.poisson.sf(r,lam)"
   ]
  },
  {
   "cell_type": "code",
   "execution_count": 32,
   "metadata": {
    "scrolled": true
   },
   "outputs": [
    {
     "data": {
      "text/plain": [
       "0.45618688411667035"
      ]
     },
     "execution_count": 32,
     "metadata": {},
     "output_type": "execute_result"
    }
   ],
   "source": [
    "lam=2.5\n",
    "r=2\n",
    "stats.poisson.sf(r,lam)"
   ]
  },
  {
   "cell_type": "code",
   "execution_count": 34,
   "metadata": {},
   "outputs": [
    {
     "data": {
      "text/plain": [
       "[0.0820849986238988,\n",
       " 0.205212496559747,\n",
       " 0.25651562069968376,\n",
       " 0.21376301724973648,\n",
       " 0.13360188578108528,\n",
       " 0.06680094289054267,\n",
       " 0.027833726204392766,\n",
       " 0.009940616501568845,\n",
       " 0.0031064426567402634,\n",
       " 0.0008629007379834082,\n",
       " 0.00021572518449585165,\n",
       " 4.902845102178441e-05,\n",
       " 1.0214260629538451e-05,\n",
       " 1.9642808902958588e-06,\n",
       " 3.5076444469568746e-07,\n",
       " 5.8460740782614496e-08,\n",
       " 9.13449074728352e-09,\n",
       " 1.3433074628358142e-09,\n",
       " 1.8657048094941935e-10,\n",
       " 2.4548747493344546e-11,\n",
       " 3.068593436668073e-12,\n",
       " 3.6530874246048537e-13,\n",
       " 4.1512357097782165e-14,\n",
       " 4.512212728019805e-15,\n",
       " 4.700221591687319e-16,\n",
       " 4.7002215916873304e-17]"
      ]
     },
     "execution_count": 34,
     "metadata": {},
     "output_type": "execute_result"
    }
   ],
   "source": [
    "# for plotting range = 10*lambda\n",
    "n=25\n",
    "lam =2.5\n",
    "pmf_list=[]\n",
    "for r in range(n+1):\n",
    "    pval= stats.poisson.pmf(r,lam)\n",
    "    pmf_list.append(pval)\n",
    "pmf_list"
   ]
  },
  {
   "cell_type": "code",
   "execution_count": 35,
   "metadata": {},
   "outputs": [
    {
     "data": {
      "image/png": "[encoded data removed]",
      "text/plain": [
       "<Figure size 432x288 with 1 Axes>"
      ]
     },
     "metadata": {
      "needs_background": "light"
     },
     "output_type": "display_data"
    }
   ],
   "source": [
    "rv  = list(range(n+1))\n",
    "plt.plot(rv,pmf_list,marker='o')\n",
    "plt.title('RV VS PMF')\n",
    "plt.xlabel('RV')\n",
    "plt.ylabel('PMF')\n",
    "plt.show()"
   ]
  },
  {
   "cell_type": "code",
   "execution_count": 36,
   "metadata": {},
   "outputs": [],
   "source": [
    "n=25\n",
    "lam=2.5\n",
    "cdf_list=[]\n",
    "for r in range(n+1): # 0 to 7\n",
    "    pval= stats.poisson.cdf(r,lam)\n",
    "    cdf_list.append(pval)"
   ]
  },
  {
   "cell_type": "code",
   "execution_count": 37,
   "metadata": {},
   "outputs": [
    {
     "data": {
      "image/png": "[encoded data removed]",
      "text/plain": [
       "<Figure size 432x288 with 1 Axes>"
      ]
     },
     "metadata": {
      "needs_background": "light"
     },
     "output_type": "display_data"
    }
   ],
   "source": [
    "rv  = list(range(n+1))\n",
    "plt.plot(rv,cdf_list,marker='o')\n",
    "plt.title('RV VS CDF')\n",
    "plt.xlabel('RV')\n",
    "plt.ylabel('CDF')\n",
    "plt.show()"
   ]
  },
  {
   "cell_type": "markdown",
   "metadata": {},
   "source": [
    "### Practice\n",
    "**1. The number of pizzas sold per day by a food zone \"Fapinos\" follows a poisson distribution at a rate of 67 pizzas per day. Calculate the probability that the number of pizza sales exceeds 70 in a day.**"
   ]
  },
  {
   "cell_type": "markdown",
   "metadata": {},
   "source": [
    "#\tIntroduction to the Normal distribution:"
   ]
  },
  {
   "cell_type": "markdown",
   "metadata": {},
   "source": [
    "## Normal Distribution"
   ]
  },
  {
   "cell_type": "markdown",
   "metadata": {},
   "source": [
    "A continuous variable X follows a normal distribution with the parameters $\\mu$ and $\\sigma$ if the pdf of X is given by:\n",
    "\n",
    "<p style='text-indent:25em'> <strong> $f(x) = \\frac {1}{\\sigma\\sqrt(2 \\pi)} e^\\frac {-(x-\\mu)^2}{2\\sigma^2}$</strong></p>\n",
    "\n",
    "The normal distribution is a bell-shaped symmetric distribution with `mean = median = mode`. \n",
    "\n",
    "The mean and variance of the distribution is given as:<br>\n",
    "\n",
    "Mean = $\\mu$ \n",
    "\n",
    "Variance = $\\sigma^{2}$ \n",
    "\n",
    "**Note:** The variable Z given as, Z = $\\frac{X - \\mu}{\\sigma}$ follows a `standard normal distribution` with mean 0 and variance 1."
   ]
  },
  {
   "cell_type": "markdown",
   "metadata": {},
   "source": [
    "Where\n",
    "* f(x) is used to represent a probability density function\n",
    "* x is any value of the continuous variable, where -∞ < x < ∞\n",
    "* e denotes the mathematical constant approximated by 2.71828\n",
    "* Π is a mathematical constant approximated by 3.14159\n",
    "* μ and σ are the mean and standard deviation of the normal distribution\n"
   ]
  },
  {
   "cell_type": "markdown",
   "metadata": {},
   "source": [
    "### Properties\n",
    "1. Theoretical normal density functions are defined between -∞ and ∞\n",
    "2. There are two parameters, location (μ which is the mean) and scale (σ which is standard deviation).\n",
    "3. It has a symmetrical (bell shape) around the mean. mean = median = mode\n",
    "4. Areas between specific values are measured in terms of μ and σ\n"
   ]
  },
  {
   "cell_type": "markdown",
   "metadata": {},
   "source": [
    "| Value of the random variable | Area under the normal distribution (CDF) |\n",
    "| --------------------------------- | --------------------------|\n",
    "| $\\mu - \\sigma \\leq x \\leq \\mu + \\sigma$ | 0.6828 |\n",
    "| $\\mu - 2\\sigma \\leq x \\leq \\mu + 2\\sigma$ | 0.9545 |\n",
    "| $\\mu - 3\\sigma \\leq x \\leq \\mu + 3\\sigma$ | 0.9974 |"
   ]
  },
  {
   "cell_type": "markdown",
   "metadata": {},
   "source": [
    "### Some important functions in python for solving Normal Distribution problems\n",
    "\n",
    "#### 1. Cumulative Distribution Function (cdf)\n",
    "\n",
    "1. scipy.stats.norm.cdf(z)                 # Here z is an attribute\n",
    "\n",
    "2. stats.norm.cdf(z2) – stats.norm.cdf(z1) # Here z is an attribute\n",
    "\n",
    "3. stats.norm.isf(0.99) # Inverse Survival function gives the value given a probability"
   ]
  },
  {
   "cell_type": "markdown",
   "metadata": {},
   "source": [
    "------------"
   ]
  },
  {
   "cell_type": "markdown",
   "metadata": {},
   "source": [
    "### Example:"
   ]
  },
  {
   "cell_type": "markdown",
   "metadata": {},
   "source": [
    "A survey on use of smart phones in India was conducted and it is observed the smart phone users spend 68 minutes in a day on average in sending messages and the corresponding standard deviation is 12 minutes. \n",
    "\n",
    "* Assume that the time spent in sending messages follows a normal distribution. \n",
    "* a) What proportion of the smart phone users are spending more than 90 minutes in sending messages daily?\n",
    "* b) What proportion of customers are spending less than 20 minutes?\n",
    "* c) What proportion of customers are spending between 50 minutes and 100 minutes?"
   ]
  },
  {
   "cell_type": "code",
   "execution_count": 42,
   "metadata": {},
   "outputs": [],
   "source": [
    "mu=68\n",
    "sigma =12\n",
    "x=90\n",
    "z = (x-mu)/sigma"
   ]
  },
  {
   "cell_type": "code",
   "execution_count": 43,
   "metadata": {},
   "outputs": [
    {
     "data": {
      "text/plain": [
       "0.03337650758481726"
      ]
     },
     "execution_count": 43,
     "metadata": {},
     "output_type": "execute_result"
    }
   ],
   "source": [
    "stats.norm.sf(z)"
   ]
  },
  {
   "cell_type": "code",
   "execution_count": 44,
   "metadata": {},
   "outputs": [
    {
     "data": {
      "text/plain": [
       "0.03337650758481726"
      ]
     },
     "execution_count": 44,
     "metadata": {},
     "output_type": "execute_result"
    }
   ],
   "source": [
    "# Aliter: (Another way)\n",
    "stats.norm.sf(x,mu,sigma)"
   ]
  },
  {
   "cell_type": "code",
   "execution_count": 45,
   "metadata": {},
   "outputs": [
    {
     "data": {
      "text/plain": [
       "3.167124183311986e-05"
      ]
     },
     "execution_count": 45,
     "metadata": {},
     "output_type": "execute_result"
    }
   ],
   "source": [
    "mu=68\n",
    "sigma =12\n",
    "x=20\n",
    "z = (x-mu)/sigma\n",
    "stats.norm.cdf(z)"
   ]
  },
  {
   "cell_type": "code",
   "execution_count": 46,
   "metadata": {},
   "outputs": [
    {
     "data": {
      "text/plain": [
       "0.9293624181635521"
      ]
     },
     "execution_count": 46,
     "metadata": {},
     "output_type": "execute_result"
    }
   ],
   "source": [
    "mu=68\n",
    "sigma =12\n",
    "x1=50\n",
    "x2=100\n",
    "z1= (x1-mu)/sigma\n",
    "z2 = (x2-mu)/sigma\n",
    "stats.norm.cdf(z2)-stats.norm.cdf(z1)"
   ]
  },
  {
   "cell_type": "markdown",
   "metadata": {},
   "source": [
    "###  Practice:\n",
    "\n",
    "#### 1. A survey was conducted and it was found that the people spend their 300 minutes in a day surfing on online shopping sites on average and the corresponding standard deviation is 127 minutes. Assume that the time spent on surfing follows a normal distribution. Calculate the following probabilities:\n",
    "\n",
    "#### a. What is the probability that people are spending more than 400 minutes on online shopping sites per day?\n",
    "\n",
    "\n",
    "#### b. What is the probability that the users are spending less than or equal to 100 minutes per day?\n",
    "\n",
    "#### c. What is the probability that the users are spending between 100 to 200 mins?"
   ]
  },
  {
   "cell_type": "markdown",
   "metadata": {},
   "source": [
    "<a id=\"sample\"></a>\n",
    "# Sampling"
   ]
  },
  {
   "cell_type": "markdown",
   "metadata": {},
   "source": [
    "It is the method of selecting a subset of observations from the population which is used as a representative of the population.\n",
    "\n",
    "The value associated with the characteristic of the population is known as a `parameter` and the characteristic of the sample is described by a `statistic`. The sample from a population is used to estimate the values of parameters.\n",
    "\n",
    "Different types of sampling: Simple Random, Stratified, Systematic, and Cluster sampling."
   ]
  },
  {
   "cell_type": "markdown",
   "metadata": {},
   "source": [
    "<a id=\"SRS\"></a>\n",
    "## 1.1 Simple Random Sample"
   ]
  },
  {
   "cell_type": "markdown",
   "metadata": {},
   "source": [
    "It is one of the sampling methods in which each observation in the population has an equal chance (probability) of being selected as the sample. It is the most basic type of sampling.\n",
    "\n",
    "Simple random sampling can be done with/without replacement."
   ]
  },
  {
   "cell_type": "markdown",
   "metadata": {},
   "source": [
    "In Simple Random Sampling With Replacement (`SRSWR`) an observation can occur multiple times, as we replace the selected observation in the population before drawing the next sample. In this technique, the size of the population always remains the same. <br>\n",
    "If there are `N` observations in the population then the probability of drawing `n` samples with replacement is $\\frac{1}{N^{n}}$"
   ]
  },
  {
   "cell_type": "markdown",
   "metadata": {},
   "source": [
    "### Example:\n",
    "\n",
    "#### 1. Consider 8 identical boxes that contain different number of shuttlecocks. Draw a sample of 20 boxes with replacement.\n",
    "\n",
    "data = [18, 13, 16, 17, 15, 21, 19, 12]"
   ]
  },
  {
   "cell_type": "code",
   "execution_count": 59,
   "metadata": {},
   "outputs": [
    {
     "data": {
      "text/plain": [
       "array([18, 13, 18])"
      ]
     },
     "execution_count": 59,
     "metadata": {},
     "output_type": "execute_result"
    }
   ],
   "source": [
    "data = [18, 13, 16, 17, 15, 21, 19, 12]\n",
    "np.random.choice(data,replace=True,size=3)"
   ]
  },
  {
   "cell_type": "markdown",
   "metadata": {},
   "source": [
    "In Simple Random Sampling Without Replacement (`SRSWOR`) an observation can occur only once as we do not replace the selected observation before drawing the next sample. <br>\n",
    "If there are `N` observations in the population then the probability of drawing `n` samples without replacement is $\\frac{1}{N \\choose n}$"
   ]
  },
  {
   "cell_type": "markdown",
   "metadata": {},
   "source": [
    "### Example:\n",
    "\n",
    "#### 1.  An ice-cream manufacturer wants to study the sales of ice-creams to decide the production policies of the company. He collects the data for the number of ice-creams sold in a month from the 30 franchise. Randomly select the sales of 10 franchise for the study. \n",
    "\n",
    "data = [21, 93, 62, 76, 73, 20, 56, 95, 41, 36, 38, 13, 80, 88, 34, 18, 40, 11, 25, 29, 61, 23, 82, 10, 92, 69, 60, 87, 14, 91]"
   ]
  },
  {
   "cell_type": "code",
   "execution_count": 65,
   "metadata": {},
   "outputs": [],
   "source": [
    "data = [21, 93, 62, 76, 73, 20, 56, 95, 41,\n",
    "        36, 38, 13, 80, 88, 34, 18, 40, 11,\n",
    "        25, 29, 61, 23, 82, 10, 92, 69, 60,\n",
    "        87, 14, 91]"
   ]
  },
  {
   "cell_type": "code",
   "execution_count": 66,
   "metadata": {},
   "outputs": [
    {
     "data": {
      "text/plain": [
       "array([92, 40, 36])"
      ]
     },
     "execution_count": 66,
     "metadata": {},
     "output_type": "execute_result"
    }
   ],
   "source": [
    "np.random.choice(data,replace=False,size=3)"
   ]
  },
  {
   "cell_type": "markdown",
   "metadata": {},
   "source": [
    "<a id=\"CLT\"></a>\n",
    "#  Central Limit Theorem"
   ]
  },
  {
   "cell_type": "markdown",
   "metadata": {},
   "source": [
    "Let $X_{1}, X_{2}, X_{3},..., X_{n}$ be the random sample drawn from a population with mean $\\mu$ and standard deviation $\\sigma$. The central limit theorem states that, for sufficiently large n, the sample mean $\\overline{X}$ follows an approximately normal distribution with mean $\\mu$ and standard deviation $\\frac{\\sigma}{\\sqrt{n}}$.\n",
    "\n",
    "i.e. $\\frac{\\overline{X} - \\mu}{\\frac{\\sigma}{\\sqrt{n}}}$ follows a standard normal distribution.\n",
    "\n",
    "For a normally distributed population, the above result holds for any sample size.\n",
    "\n",
    "For the population with distribution other than normal, generally, the sample size greater than or equal to 30 is considered as the large sample size."
   ]
  },
  {
   "cell_type": "markdown",
   "metadata": {},
   "source": [
    "Consider a population with mean $\\mu$ and standard deviation $\\sigma$. Let us take a sample of `n` observations from the population such that, $n \\geq 30$. The central limit theorem states that the sampling distribution of mean follows a normal distribution with mean $\\mu$ and standard deviation $\\frac{\\sigma}{\\sqrt(n)}$."
   ]
  },
  {
   "cell_type": "markdown",
   "metadata": {},
   "source": [
    "# Population with no skewness(Normal population)"
   ]
  },
  {
   "cell_type": "code",
   "execution_count": 84,
   "metadata": {},
   "outputs": [
    {
     "data": {
      "text/plain": [
       "<AxesSubplot:>"
      ]
     },
     "execution_count": 84,
     "metadata": {},
     "output_type": "execute_result"
    },
    {
     "data": {
      "image/png": "[encoded data removed]",
      "text/plain": [
       "<Figure size 720x288 with 1 Axes>"
      ]
     },
     "metadata": {
      "needs_background": "light"
     },
     "output_type": "display_data"
    }
   ],
   "source": [
    "from scipy.stats import skewnorm\n",
    "\n",
    "\n",
    "normal_population = skewnorm.rvs(0, size = 10000, random_state = 1)\n",
    "plt.figure(figsize=(10,4))\n",
    "sns.distplot(normal_population)\n",
    "\n"
   ]
  },
  {
   "cell_type": "code",
   "execution_count": 85,
   "metadata": {},
   "outputs": [
    {
     "data": {
      "image/png": "[encoded data removed]",
      "text/plain": [
       "<Figure size 432x288 with 1 Axes>"
      ]
     },
     "metadata": {
      "needs_background": "light"
     },
     "output_type": "display_data"
    },
    {
     "name": "stdout",
     "output_type": "stream",
     "text": [
      "skew: -0.18763775671942987\n",
      "std: 0.14024995094238527\n"
     ]
    }
   ],
   "source": [
    "sample_size = 50\n",
    "no_of_samples = 100\n",
    "sample_mean_list = []\n",
    "for i in range(no_of_samples):\n",
    "    sample = np.random.choice(normal_population,size=sample_size,replace=True)\n",
    "    sample_mean_list.append(sample.mean())\n",
    "sns.distplot(sample_mean_list)\n",
    "plt.show()\n",
    "print('skew:',pd.Series(sample_mean_list).skew())\n",
    "print('std:',np.std(sample_mean_list))"
   ]
  },
  {
   "cell_type": "code",
   "execution_count": 86,
   "metadata": {},
   "outputs": [
    {
     "data": {
      "image/png": "[encoded data removed]",
      "text/plain": [
       "<Figure size 432x288 with 1 Axes>"
      ]
     },
     "metadata": {
      "needs_background": "light"
     },
     "output_type": "display_data"
    },
    {
     "name": "stdout",
     "output_type": "stream",
     "text": [
      "skew: -0.004055027099033861\n",
      "std: 0.0337080246322882\n"
     ]
    }
   ],
   "source": [
    "sample_size = 1000\n",
    "no_of_samples = 100\n",
    "sample_mean_list = []\n",
    "for i in range(no_of_samples):\n",
    "    sample = np.random.choice(normal_population,size=sample_size,replace=True)\n",
    "    sample_mean_list.append(sample.mean())\n",
    "sns.distplot(sample_mean_list)\n",
    "plt.show()\n",
    "print('skew:',pd.Series(sample_mean_list).skew())\n",
    "print('std:',np.std(sample_mean_list))"
   ]
  },
  {
   "cell_type": "code",
   "execution_count": 87,
   "metadata": {},
   "outputs": [
    {
     "data": {
      "image/png": "[encoded data removed]",
      "text/plain": [
       "<Figure size 432x288 with 1 Axes>"
      ]
     },
     "metadata": {
      "needs_background": "light"
     },
     "output_type": "display_data"
    },
    {
     "name": "stdout",
     "output_type": "stream",
     "text": [
      "skew: -0.427293019476532\n",
      "std: 0.013806022564606581\n"
     ]
    }
   ],
   "source": [
    "sample_size = 5000\n",
    "no_of_samples = 100\n",
    "sample_mean_list = []\n",
    "for i in range(no_of_samples):\n",
    "    sample = np.random.choice(normal_population,size=sample_size,replace=True)\n",
    "    sample_mean_list.append(sample.mean())\n",
    "sns.distplot(sample_mean_list)\n",
    "plt.show()\n",
    "print('skew:',pd.Series(sample_mean_list).skew())\n",
    "print('std:',np.std(sample_mean_list))"
   ]
  },
  {
   "cell_type": "code",
   "execution_count": 89,
   "metadata": {},
   "outputs": [
    {
     "name": "stderr",
     "output_type": "stream",
     "text": [
      "C:\\Users\\GREAT LEARNING\\Anaconda3\\lib\\site-packages\\numpy\\lib\\histograms.py:905: RuntimeWarning: invalid value encountered in true_divide\n",
      "  return n/db/n.sum(), bin_edges\n"
     ]
    },
    {
     "data": {
      "image/png": "[encoded data removed]",
      "text/plain": [
       "<Figure size 432x288 with 1 Axes>"
      ]
     },
     "metadata": {
      "needs_background": "light"
     },
     "output_type": "display_data"
    },
    {
     "name": "stdout",
     "output_type": "stream",
     "text": [
      "skew: 0\n",
      "std: 6.644240020047528e-18\n"
     ]
    }
   ],
   "source": [
    "sample_size = 10000\n",
    "no_of_samples = 100\n",
    "sample_mean_list = []\n",
    "for i in range(no_of_samples):\n",
    "    sample = np.random.choice(normal_population,size=sample_size,replace=False)\n",
    "    sample_mean_list.append(sample.mean())\n",
    "sns.distplot(sample_mean_list)\n",
    "plt.show()\n",
    "print('skew:',pd.Series(sample_mean_list).skew())\n",
    "print('std:',np.std(sample_mean_list))"
   ]
  },
  {
   "cell_type": "markdown",
   "metadata": {},
   "source": [
    "# Population with right skew "
   ]
  },
  {
   "cell_type": "code",
   "execution_count": 90,
   "metadata": {
    "scrolled": true
   },
   "outputs": [
    {
     "data": {
      "text/plain": [
       "<AxesSubplot:>"
      ]
     },
     "execution_count": 90,
     "metadata": {},
     "output_type": "execute_result"
    },
    {
     "data": {
      "image/png": "[encoded data removed]",
      "text/plain": [
       "<Figure size 720x288 with 1 Axes>"
      ]
     },
     "metadata": {
      "needs_background": "light"
     },
     "output_type": "display_data"
    }
   ],
   "source": [
    "# generate a right skewed data\n",
    "rskew_population = skewnorm.rvs(20, size=10000, random_state = 1)\n",
    "# plot a distribution plot\n",
    "plt.figure(figsize=(10,4))\n",
    "sns.distplot(rskew_population)"
   ]
  },
  {
   "cell_type": "code",
   "execution_count": 92,
   "metadata": {},
   "outputs": [
    {
     "data": {
      "image/png": "[encoded data removed]",
      "text/plain": [
       "<Figure size 432x288 with 1 Axes>"
      ]
     },
     "metadata": {
      "needs_background": "light"
     },
     "output_type": "display_data"
    },
    {
     "name": "stdout",
     "output_type": "stream",
     "text": [
      "skew: -0.15209252336984208\n",
      "std: 0.02539139821514406\n"
     ]
    }
   ],
   "source": [
    "sample_size = 500\n",
    "no_of_samples = 100\n",
    "sample_mean_list = []\n",
    "for i in range(no_of_samples):\n",
    "    sample = np.random.choice(rskew_population,size=sample_size,replace=True)\n",
    "    sample_mean_list.append(sample.mean())\n",
    "sns.distplot(sample_mean_list)\n",
    "plt.show()\n",
    "print('skew:',pd.Series(sample_mean_list).skew())\n",
    "print('std:',np.std(sample_mean_list))"
   ]
  },
  {
   "cell_type": "code",
   "execution_count": null,
   "metadata": {},
   "outputs": [],
   "source": []
  }
 ],
 "metadata": {
  "kernelspec": {
   "display_name": "Python 3",
   "language": "python",
   "name": "python3"
  },
  "language_info": {
   "codemirror_mode": {
    "name": "ipython",
    "version": 3
   },
   "file_extension": ".py",
   "mimetype": "text/x-python",
   "name": "python",
   "nbconvert_exporter": "python",
   "pygments_lexer": "ipython3",
   "version": "3.8.5"
  }
 },
 "nbformat": 4,
 "nbformat_minor": 2
}

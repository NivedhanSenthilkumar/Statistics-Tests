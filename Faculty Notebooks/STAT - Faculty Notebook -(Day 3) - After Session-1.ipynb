{
 "cells": [
  {
   "cell_type": "markdown",
   "metadata": {},
   "source": [
    "<a id=\"lib\"></a>\n",
    "# 1. Import Libraries"
   ]
  },
  {
   "cell_type": "markdown",
   "metadata": {},
   "source": [
    "**Let us import the required libraries.**"
   ]
  },
  {
   "cell_type": "code",
   "execution_count": 2,
   "metadata": {},
   "outputs": [],
   "source": [
    "# import 'pandas' \n",
    "import pandas as pd \n",
    "\n",
    "# import 'numpy' \n",
    "import numpy as np\n",
    "\n",
    "# import subpackage of matplotlib\n",
    "import matplotlib.pyplot as plt\n",
    "\n",
    "# import 'seaborn'\n",
    "import seaborn as sns\n",
    "\n",
    "# to suppress warnings \n",
    "from warnings import filterwarnings\n",
    "filterwarnings('ignore')\n",
    "\n",
    "# import 'random' to generate random sample\n",
    "import random\n",
    "\n",
    "# import statistics to perform statistical computation  \n",
    "import statistics\n",
    "\n",
    "# import 'stats' package from scipy library\n",
    "from scipy import stats\n",
    "\n",
    "# import a library to perform Z-test\n",
    "from statsmodels.stats import weightstats as stests\n",
    "\n",
    "# to test the normality \n",
    "from scipy.stats import shapiro\n",
    "\n",
    "# import the function to calculate the power of test\n",
    "from statsmodels.stats import power"
   ]
  },
  {
   "cell_type": "markdown",
   "metadata": {
    "id": "1FHZAY-0jUMv"
   },
   "source": [
    "<a id=\"t\"></a>\n",
    "# 3. t Test"
   ]
  },
  {
   "cell_type": "markdown",
   "metadata": {
    "id": "NI4skzgvjUMw"
   },
   "source": [
    "<a id=\"1t\"></a>\n",
    "## 3.1 One Sample t Test"
   ]
  },
  {
   "cell_type": "markdown",
   "metadata": {
    "id": "-Sblu4a_jUMw"
   },
   "source": [
    "Let us perform a one sample t-test for the population mean. We compare the population mean with a specific value. \n",
    "\n",
    "The null and alternative hypothesis is given as:\n",
    "\n",
    "<p style='text-indent:25em'> <strong> $H_{0}: \\mu = \\mu_{0}$ or $\\mu \\geq \\mu_{0}$ or $\\mu \\leq \\mu_{0}$</strong></p>\n",
    "<p style='text-indent:25em'> <strong> $H_{1}: \\mu \\neq \\mu_{0}$ or $\\mu < \\mu_{0}$ or $\\mu > \\mu_{0}$</strong></p>"
   ]
  },
  {
   "cell_type": "markdown",
   "metadata": {
    "id": "q9CRXHIkjUMx"
   },
   "source": [
    "The test statistic is given as:\n",
    "<p style='text-indent:25em'> <strong> $t = \\frac{\\overline{X} -  \\mu_{0}}{\\frac{s}{\\sqrt(n)}}$</strong></p>\n",
    "\n",
    "Where, <br>\n",
    "$\\overline{X}$: Sample mean<br>\n",
    "$s$: Sample standard deviation<br>\n",
    "$n$: Sample size\n",
    " \n",
    "Under $H_{0}$ the test statistic follows a t-distribution with n-1 degrees of freedom."
   ]
  },
  {
   "cell_type": "markdown",
   "metadata": {
    "id": "5BunXsmKjUMx"
   },
   "source": [
    "\n",
    "#### 1. A survey claims that in a math test female students tend to score marks greater than 75. Consider a sample of 24 female students and perform a hypothesis test to check the claim with 90% confidence.\n",
    "\n",
    "Use the dataset available in the CSV file `mathscore_1ttest.csv`."
   ]
  },
  {
   "cell_type": "code",
   "execution_count": 3,
   "metadata": {
    "scrolled": true
   },
   "outputs": [
    {
     "data": {
      "text/html": [
       "<div>\n",
       "<style scoped>\n",
       "    .dataframe tbody tr th:only-of-type {\n",
       "        vertical-align: middle;\n",
       "    }\n",
       "\n",
       "    .dataframe tbody tr th {\n",
       "        vertical-align: top;\n",
       "    }\n",
       "\n",
       "    .dataframe thead th {\n",
       "        text-align: right;\n",
       "    }\n",
       "</style>\n",
       "<table border=\"1\" class=\"dataframe\">\n",
       "  <thead>\n",
       "    <tr style=\"text-align: right;\">\n",
       "      <th></th>\n",
       "      <th>gender</th>\n",
       "      <th>race/ethnicity</th>\n",
       "      <th>lunch</th>\n",
       "      <th>test preparation course</th>\n",
       "      <th>math score</th>\n",
       "      <th>reading score</th>\n",
       "      <th>writing score</th>\n",
       "      <th>total score</th>\n",
       "      <th>training institute</th>\n",
       "    </tr>\n",
       "  </thead>\n",
       "  <tbody>\n",
       "    <tr>\n",
       "      <th>0</th>\n",
       "      <td>female</td>\n",
       "      <td>group C</td>\n",
       "      <td>standard</td>\n",
       "      <td>none</td>\n",
       "      <td>60</td>\n",
       "      <td>72</td>\n",
       "      <td>74</td>\n",
       "      <td>206</td>\n",
       "      <td>Nature Learning</td>\n",
       "    </tr>\n",
       "    <tr>\n",
       "      <th>1</th>\n",
       "      <td>female</td>\n",
       "      <td>group C</td>\n",
       "      <td>standard</td>\n",
       "      <td>none</td>\n",
       "      <td>59</td>\n",
       "      <td>72</td>\n",
       "      <td>68</td>\n",
       "      <td>199</td>\n",
       "      <td>Nature Learning</td>\n",
       "    </tr>\n",
       "    <tr>\n",
       "      <th>2</th>\n",
       "      <td>female</td>\n",
       "      <td>group E</td>\n",
       "      <td>standard</td>\n",
       "      <td>none</td>\n",
       "      <td>100</td>\n",
       "      <td>100</td>\n",
       "      <td>100</td>\n",
       "      <td>300</td>\n",
       "      <td>Speak Global Learning</td>\n",
       "    </tr>\n",
       "    <tr>\n",
       "      <th>3</th>\n",
       "      <td>female</td>\n",
       "      <td>group D</td>\n",
       "      <td>standard</td>\n",
       "      <td>none</td>\n",
       "      <td>69</td>\n",
       "      <td>74</td>\n",
       "      <td>74</td>\n",
       "      <td>217</td>\n",
       "      <td>Speak Global Learning</td>\n",
       "    </tr>\n",
       "    <tr>\n",
       "      <th>4</th>\n",
       "      <td>female</td>\n",
       "      <td>group A</td>\n",
       "      <td>free/reduced</td>\n",
       "      <td>none</td>\n",
       "      <td>47</td>\n",
       "      <td>59</td>\n",
       "      <td>50</td>\n",
       "      <td>156</td>\n",
       "      <td>Speak Global Learning</td>\n",
       "    </tr>\n",
       "  </tbody>\n",
       "</table>\n",
       "</div>"
      ],
      "text/plain": [
       "   gender race/ethnicity         lunch test preparation course  math score  \\\n",
       "0  female        group C      standard                    none          60   \n",
       "1  female        group C      standard                    none          59   \n",
       "2  female        group E      standard                    none         100   \n",
       "3  female        group D      standard                    none          69   \n",
       "4  female        group A  free/reduced                    none          47   \n",
       "\n",
       "   reading score  writing score  total score     training institute  \n",
       "0             72             74          206        Nature Learning  \n",
       "1             72             68          199        Nature Learning  \n",
       "2            100            100          300  Speak Global Learning  \n",
       "3             74             74          217  Speak Global Learning  \n",
       "4             59             50          156  Speak Global Learning  "
      ]
     },
     "execution_count": 3,
     "metadata": {},
     "output_type": "execute_result"
    }
   ],
   "source": [
    "df = pd.read_csv('mathscore_1ttest.csv')\n",
    "df.head()"
   ]
  },
  {
   "cell_type": "code",
   "execution_count": 21,
   "metadata": {},
   "outputs": [],
   "source": [
    "fem_math= df[df['gender']=='female']['math score']\n"
   ]
  },
  {
   "cell_type": "code",
   "execution_count": 9,
   "metadata": {},
   "outputs": [],
   "source": [
    "# Test of Normality - Shapiro  test\n",
    "# Ho: skew=0 (normal)\n",
    "# Ha : skew!=0 (not normal)"
   ]
  },
  {
   "cell_type": "code",
   "execution_count": 10,
   "metadata": {},
   "outputs": [
    {
     "data": {
      "text/plain": [
       "ShapiroResult(statistic=0.9368310570716858, pvalue=0.13859796524047852)"
      ]
     },
     "execution_count": 10,
     "metadata": {},
     "output_type": "execute_result"
    }
   ],
   "source": [
    "stats.shapiro(fem_math)"
   ]
  },
  {
   "cell_type": "code",
   "execution_count": null,
   "metadata": {},
   "outputs": [],
   "source": [
    "# pval =0.13\n",
    "# sig lvl = 0.05\n",
    "# pval> sig lvl . Ho is selected\n",
    "# skew = 0 (Data is normal)"
   ]
  },
  {
   "cell_type": "code",
   "execution_count": 12,
   "metadata": {},
   "outputs": [
    {
     "name": "stdout",
     "output_type": "stream",
     "text": [
      "66.45833333333333 11.602020688568478\n"
     ]
    }
   ],
   "source": [
    "x_bar = np.mean(fem_math)\n",
    "s = np.std(fem_math,ddof=1)\n",
    "print(x_bar,s)"
   ]
  },
  {
   "cell_type": "code",
   "execution_count": 13,
   "metadata": {},
   "outputs": [],
   "source": [
    "# Hypothesis\n",
    "\n",
    "# Ho : mu >=75\n",
    "# Ha : mu <75  (x_bar< mu)\n"
   ]
  },
  {
   "cell_type": "code",
   "execution_count": null,
   "metadata": {},
   "outputs": [],
   "source": [
    "# Data is normal\n",
    "# pop std is not known\n",
    "# one sample t test(left tailed)"
   ]
  },
  {
   "cell_type": "code",
   "execution_count": 15,
   "metadata": {},
   "outputs": [
    {
     "name": "stdout",
     "output_type": "stream",
     "text": [
      "Test statistics: -3.6067380757023204\n",
      "pval: 0.0007426613957678669\n"
     ]
    }
   ],
   "source": [
    "x_bar = np.mean(fem_math)\n",
    "s = np.std(fem_math,ddof=1)\n",
    "mu = 75\n",
    "n  = len(fem_math)\n",
    "tstat = (x_bar - mu)/(s/n**0.5)\n",
    "print('Test statistics:',tstat)\n",
    "pval = stats.t.cdf(tstat,df=n-1)\n",
    "print('pval:',pval)"
   ]
  },
  {
   "cell_type": "code",
   "execution_count": 20,
   "metadata": {},
   "outputs": [
    {
     "name": "stdout",
     "output_type": "stream",
     "text": [
      "0.0007426613957678669\n"
     ]
    }
   ],
   "source": [
    "# Inbuilt function:  \n",
    "\n",
    "# by default : two sided probability\n",
    "tstat,twosid_pval = stats.ttest_1samp(fem_math,popmean=75)\n",
    "onesid_pval = twosid_pval/2\n",
    "print(onesid_pval)"
   ]
  },
  {
   "cell_type": "code",
   "execution_count": null,
   "metadata": {},
   "outputs": [],
   "source": [
    "# pval = 0.0007\n",
    "# sig lvl = 0.1\n",
    "# pval < sig lvl\n",
    "# Null hypothesis is rejected. Alternate is selected\n",
    "# Average female score is less than 75"
   ]
  },
  {
   "cell_type": "markdown",
   "metadata": {
    "id": "JtUrRwbwjUNN"
   },
   "source": [
    "#### 2. A researcher is studying the growth of bacteria in waters of Lake Beach. The mean bacteria count of 100 per unit volume of water is within the safety level. The researcher collected 10 water samples of unit volume and found the mean bacteria count to be 94.8 with a sample variance of 72.66. Does the data indicate that the bacteria count is within the safety level? Test at the α = .05 level. Assume that the measurements constitute a sample from a normal population."
   ]
  },
  {
   "cell_type": "code",
   "execution_count": 13,
   "metadata": {},
   "outputs": [],
   "source": [
    "# Hypothesis\n",
    "\n",
    "# Ho : mu >=100\n",
    "# Ha : mu <100  (x_bar< mu)\n"
   ]
  },
  {
   "cell_type": "code",
   "execution_count": null,
   "metadata": {},
   "outputs": [],
   "source": [
    "# Data is normal\n",
    "# pop std is not known\n",
    "# one sample t test(left tailed)"
   ]
  },
  {
   "cell_type": "code",
   "execution_count": 23,
   "metadata": {},
   "outputs": [
    {
     "name": "stdout",
     "output_type": "stream",
     "text": [
      "Test statistics: -1.9291040236750068\n",
      "pval: 0.04289782134327503\n"
     ]
    }
   ],
   "source": [
    "x_bar = 94.8\n",
    "s = 72.66**0.5\n",
    "mu = 100\n",
    "n  = 10\n",
    "tstat = (x_bar - mu)/(s/n**0.5)\n",
    "print('Test statistics:',tstat)\n",
    "pval = stats.t.cdf(tstat,df=n-1)\n",
    "print('pval:',pval)"
   ]
  },
  {
   "cell_type": "code",
   "execution_count": 24,
   "metadata": {},
   "outputs": [],
   "source": [
    "# pval = 0.04\n",
    "# sig lvl = 0.05\n",
    "# pval < sig lvl\n",
    "# Null hypothesis is rejected. Alternate is selected\n",
    "# Average bacter level is less than 100"
   ]
  },
  {
   "cell_type": "markdown",
   "metadata": {
    "id": "xB0iAEpyjUNV"
   },
   "source": [
    "<a id=\"2t\"></a>\n",
    "## 3.2 Two Sample t Test (Unpaired)"
   ]
  },
  {
   "cell_type": "markdown",
   "metadata": {
    "id": "T0GSiOeFjUNV"
   },
   "source": [
    "The two sample t-test is used to compare the means of two independent populations. This test assumes that the populations are normally distributed from which the samples are taken.\n",
    "\n",
    "The null and alternative hypothesis is given as:\n",
    "<p style='text-indent:25em'> <strong> $H_{0}: \\mu_{1} - \\mu_{2} = \\mu_{0}$ or $\\mu_{1} - \\mu_{2} \\geq \\mu_{0}$ or $\\mu_{1} -\\mu_{2} \\leq \\mu_{0}$</strong></p>\n",
    "<p style='text-indent:25em'> <strong> $H_{1}: \\mu_{1} - \\mu_{2} \\neq \\mu_{0} $ or $\\mu_{1} - \\mu_{2} < \\mu_{0}$ or $\\mu_{1} -\\mu_{2} > \\mu_{0}$</strong></p>"
   ]
  },
  {
   "cell_type": "markdown",
   "metadata": {
    "id": "Ydl-oa6djUNV"
   },
   "source": [
    "Let us take a sample of size ($n_{1}$) from the first population and sample of size ($n_{2}$) from a second independent population. If both $n_{1}$ and $n_{2}$ are less than 30 and standard deviation of populations are unknown. We use two-sample t-test.\n",
    "\n",
    "Consider the equal variance for both the populations. The test statistic for two sample t-test is given as:\n",
    "<p style='text-indent:25em'> <strong> $t = \\frac{(\\overline{X_{1}} - \\overline{X_{2}}) - \\mu_{0}} {s \\sqrt{\\frac{1}{n_{1}} + \\frac{1}{n_{2}}}}$</strong></p>\n",
    "\n",
    "Where, <br>\n",
    "$\\overline{X_{1}}$, $\\overline{X_{2}}$: Mean of both the samples<br>\n",
    "$\\mu_{0}$: Mean difference given in the null hypothesis<br>\n",
    "$s$: Pooled standard deviation<br>\n",
    "$n_{1}, n_{2}$: Size of samples from both the populations\n",
    "\n",
    "The pooled standard deviation is defined as:\n",
    "$s = \\sqrt{\\frac{(n_{1} - 1)s_{1}^{2} + (n_{2} - 1)s_{2}^{2}}{n_{1} + n_{2} - 2}}$ $\\hspace{2cm}$  Where, $s_{1}, s_{2}$: Standard deviation of both the samples\n",
    "\n",
    "Under $H_{0}$, the test statistic follows a t-distribution with $(n_{1}+n_{2}-2)$ degrees of freedom."
   ]
  },
  {
   "cell_type": "markdown",
   "metadata": {
    "id": "ugMmycEPjUNW"
   },
   "source": [
    "If the population variances are equal and also the sample size is the same for both the samples then the test statistic is given as:\n",
    "<p style='text-indent:25em'> <strong> $t = \\frac{(\\overline{X_{1}} - \\overline{X_{2}}) - \\mu_{0}} {s \\sqrt{\\frac{2}{n}}}$</strong></p>\n",
    "\n",
    "Where the pooled standard deviation $s = \\sqrt{\\frac{s_{1}^{2} + s_{2}^{2}}{2}}$\n",
    "\n",
    "Under $H_{0}$, the test statistic follows a t-distribution with $(2n-2)$ degrees of freedom."
   ]
  },
  {
   "cell_type": "markdown",
   "metadata": {
    "id": "6FlpZGqkjUNX"
   },
   "source": [
    "If both the population variances and the sample sizes are not equal then the Welch's test is used."
   ]
  },
  {
   "cell_type": "markdown",
   "metadata": {
    "id": "pdA-6L1tjUNX"
   },
   "source": [
    "### Example: \n",
    "\n",
    "#### 1. The teachers' association claims that the total score of the students who completed the test preparation course is different than the total score of the students who have not completed the course. The sample data consists of 15 students who completed the course and 18 students who have not completed the course. Test the association's claim with ⍺ = 0.05."
   ]
  },
  {
   "cell_type": "markdown",
   "metadata": {
    "id": "rDve_0ZzjUNY"
   },
   "source": [
    "Consider the total score of the students who have/ have not completed the preparation course are given in the CSV file `totalmarks_2ttest.csv`."
   ]
  },
  {
   "cell_type": "code",
   "execution_count": 25,
   "metadata": {},
   "outputs": [
    {
     "data": {
      "text/html": [
       "<div>\n",
       "<style scoped>\n",
       "    .dataframe tbody tr th:only-of-type {\n",
       "        vertical-align: middle;\n",
       "    }\n",
       "\n",
       "    .dataframe tbody tr th {\n",
       "        vertical-align: top;\n",
       "    }\n",
       "\n",
       "    .dataframe thead th {\n",
       "        text-align: right;\n",
       "    }\n",
       "</style>\n",
       "<table border=\"1\" class=\"dataframe\">\n",
       "  <thead>\n",
       "    <tr style=\"text-align: right;\">\n",
       "      <th></th>\n",
       "      <th>gender</th>\n",
       "      <th>race/ethnicity</th>\n",
       "      <th>lunch</th>\n",
       "      <th>test preparation course</th>\n",
       "      <th>math score</th>\n",
       "      <th>reading score</th>\n",
       "      <th>writing score</th>\n",
       "      <th>total score</th>\n",
       "      <th>training institute</th>\n",
       "    </tr>\n",
       "  </thead>\n",
       "  <tbody>\n",
       "    <tr>\n",
       "      <th>0</th>\n",
       "      <td>male</td>\n",
       "      <td>group E</td>\n",
       "      <td>standard</td>\n",
       "      <td>completed</td>\n",
       "      <td>84</td>\n",
       "      <td>83</td>\n",
       "      <td>78</td>\n",
       "      <td>245</td>\n",
       "      <td>Speak Global Learning</td>\n",
       "    </tr>\n",
       "    <tr>\n",
       "      <th>1</th>\n",
       "      <td>male</td>\n",
       "      <td>group C</td>\n",
       "      <td>free/reduced</td>\n",
       "      <td>completed</td>\n",
       "      <td>79</td>\n",
       "      <td>77</td>\n",
       "      <td>75</td>\n",
       "      <td>231</td>\n",
       "      <td>Speak Global Learning</td>\n",
       "    </tr>\n",
       "    <tr>\n",
       "      <th>2</th>\n",
       "      <td>male</td>\n",
       "      <td>group A</td>\n",
       "      <td>standard</td>\n",
       "      <td>none</td>\n",
       "      <td>91</td>\n",
       "      <td>96</td>\n",
       "      <td>92</td>\n",
       "      <td>279</td>\n",
       "      <td>Nature Learning</td>\n",
       "    </tr>\n",
       "    <tr>\n",
       "      <th>3</th>\n",
       "      <td>female</td>\n",
       "      <td>group B</td>\n",
       "      <td>free/reduced</td>\n",
       "      <td>completed</td>\n",
       "      <td>76</td>\n",
       "      <td>94</td>\n",
       "      <td>87</td>\n",
       "      <td>257</td>\n",
       "      <td>Speak Global Learning</td>\n",
       "    </tr>\n",
       "    <tr>\n",
       "      <th>4</th>\n",
       "      <td>male</td>\n",
       "      <td>group A</td>\n",
       "      <td>standard</td>\n",
       "      <td>completed</td>\n",
       "      <td>46</td>\n",
       "      <td>41</td>\n",
       "      <td>43</td>\n",
       "      <td>130</td>\n",
       "      <td>Nature Learning</td>\n",
       "    </tr>\n",
       "  </tbody>\n",
       "</table>\n",
       "</div>"
      ],
      "text/plain": [
       "   gender race/ethnicity         lunch test preparation course  math score  \\\n",
       "0    male        group E      standard               completed          84   \n",
       "1    male        group C  free/reduced               completed          79   \n",
       "2    male        group A      standard                    none          91   \n",
       "3  female        group B  free/reduced               completed          76   \n",
       "4    male        group A      standard               completed          46   \n",
       "\n",
       "   reading score  writing score  total score     training institute  \n",
       "0             83             78          245  Speak Global Learning  \n",
       "1             77             75          231  Speak Global Learning  \n",
       "2             96             92          279        Nature Learning  \n",
       "3             94             87          257  Speak Global Learning  \n",
       "4             41             43          130        Nature Learning  "
      ]
     },
     "execution_count": 25,
     "metadata": {},
     "output_type": "execute_result"
    }
   ],
   "source": [
    "df = pd.read_csv('totalmarks_2ttest.csv')\n",
    "df.head()"
   ]
  },
  {
   "cell_type": "code",
   "execution_count": 34,
   "metadata": {},
   "outputs": [],
   "source": [
    "completed = df[df['test preparation course']=='completed']['total score']\n",
    "notcompleted =df[df['test preparation course']=='none']['total score']"
   ]
  },
  {
   "cell_type": "code",
   "execution_count": 35,
   "metadata": {},
   "outputs": [],
   "source": [
    "# Test of Normality - Shapiro  test\n",
    "# Ho: skew=0 (normal)\n",
    "# Ha : skew!=0 (not normal)"
   ]
  },
  {
   "cell_type": "code",
   "execution_count": 36,
   "metadata": {},
   "outputs": [
    {
     "data": {
      "text/plain": [
       "ShapiroResult(statistic=0.9055534601211548, pvalue=0.11574020981788635)"
      ]
     },
     "execution_count": 36,
     "metadata": {},
     "output_type": "execute_result"
    }
   ],
   "source": [
    "stats.shapiro(completed)"
   ]
  },
  {
   "cell_type": "code",
   "execution_count": 37,
   "metadata": {},
   "outputs": [],
   "source": [
    "# pval =0.11\n",
    "# sig lvl = 0.05\n",
    "# pval> sig lvl . Ho is selected\n",
    "# skew = 0 (Data is normal)"
   ]
  },
  {
   "cell_type": "code",
   "execution_count": 38,
   "metadata": {},
   "outputs": [
    {
     "data": {
      "text/plain": [
       "ShapiroResult(statistic=0.948186457157135, pvalue=0.39728137850761414)"
      ]
     },
     "execution_count": 38,
     "metadata": {},
     "output_type": "execute_result"
    }
   ],
   "source": [
    "stats.shapiro(notcompleted)"
   ]
  },
  {
   "cell_type": "code",
   "execution_count": null,
   "metadata": {},
   "outputs": [],
   "source": [
    "# pval =0.39\n",
    "# sig lvl = 0.05\n",
    "# pval> sig lvl . Ho is selected\n",
    "# skew = 0 (Data is normal)"
   ]
  },
  {
   "cell_type": "code",
   "execution_count": 39,
   "metadata": {},
   "outputs": [
    {
     "name": "stdout",
     "output_type": "stream",
     "text": [
      "213.86666666666667 196.5\n"
     ]
    }
   ],
   "source": [
    "x1_bar  = np.mean(completed)\n",
    "x2_bar = np.mean(notcompleted)\n",
    "print(x1_bar,x2_bar)"
   ]
  },
  {
   "cell_type": "code",
   "execution_count": 42,
   "metadata": {},
   "outputs": [],
   "source": [
    "# Hypothesis:\n",
    "\n",
    "# Ho : mu of completed = mu of not completed\n",
    "# Ha : mu of completed != mu of not completed"
   ]
  },
  {
   "cell_type": "code",
   "execution_count": null,
   "metadata": {},
   "outputs": [],
   "source": [
    "# Data is normal\n",
    "# pop std is not known\n",
    "# pop is independant\n",
    "# Unpaired two sample t test (two tailed)"
   ]
  },
  {
   "cell_type": "code",
   "execution_count": 41,
   "metadata": {},
   "outputs": [
    {
     "name": "stdout",
     "output_type": "stream",
     "text": [
      "T stat: 1.4385323319823262\n",
      "Two sided Pval: 0.16030339806989594\n"
     ]
    }
   ],
   "source": [
    "ttstat,twosid_pval = stats.ttest_ind(completed,notcompleted)\n",
    "print('T stat:',ttstat)\n",
    "print('Two sided Pval:',twosid_pval)"
   ]
  },
  {
   "cell_type": "code",
   "execution_count": null,
   "metadata": {},
   "outputs": [],
   "source": [
    "# pval = 0.16\n",
    "# sig lvl = 0.05\n",
    "# pval > sig lvl\n",
    "# Null hypothesis is selected\n",
    "# No difference is perfomace of completed and not completed."
   ]
  },
  {
   "cell_type": "markdown",
   "metadata": {},
   "source": [
    "## Practice:\n",
    "\n",
    "1. The teachers' association claims that the total score of Speak Global Learning is greater than the total score of Nature Learning.  Test the association's claim with ⍺ = 0.05."
   ]
  },
  {
   "cell_type": "code",
   "execution_count": 44,
   "metadata": {},
   "outputs": [],
   "source": [
    "sgl = df[df['training institute']=='Speak Global Learning']['total score']\n",
    "nl =  df[df['training institute']=='Nature Learning']['total score']"
   ]
  },
  {
   "cell_type": "code",
   "execution_count": 35,
   "metadata": {},
   "outputs": [],
   "source": [
    "# Test of Normality - Shapiro  test\n",
    "# Ho: skew=0 (normal)\n",
    "# Ha : skew!=0 (not normal)"
   ]
  },
  {
   "cell_type": "code",
   "execution_count": 45,
   "metadata": {},
   "outputs": [
    {
     "data": {
      "text/plain": [
       "ShapiroResult(statistic=0.940517246723175, pvalue=0.26940712332725525)"
      ]
     },
     "execution_count": 45,
     "metadata": {},
     "output_type": "execute_result"
    }
   ],
   "source": [
    "stats.shapiro(sgl)"
   ]
  },
  {
   "cell_type": "code",
   "execution_count": 37,
   "metadata": {},
   "outputs": [],
   "source": [
    "# pval =0.26\n",
    "# sig lvl = 0.05\n",
    "# pval> sig lvl . Ho is selected\n",
    "# skew = 0 (Data is normal)"
   ]
  },
  {
   "cell_type": "code",
   "execution_count": 46,
   "metadata": {},
   "outputs": [
    {
     "data": {
      "text/plain": [
       "ShapiroResult(statistic=0.960299015045166, pvalue=0.7280198335647583)"
      ]
     },
     "execution_count": 46,
     "metadata": {},
     "output_type": "execute_result"
    }
   ],
   "source": [
    "stats.shapiro(nl)"
   ]
  },
  {
   "cell_type": "code",
   "execution_count": 47,
   "metadata": {},
   "outputs": [],
   "source": [
    "# pval =0.72\n",
    "# sig lvl = 0.05\n",
    "# pval> sig lvl . Ho is selected\n",
    "# skew = 0 (Data is normal)"
   ]
  },
  {
   "cell_type": "code",
   "execution_count": 48,
   "metadata": {},
   "outputs": [
    {
     "name": "stdout",
     "output_type": "stream",
     "text": [
      "209.6315789473684 197.28571428571428\n"
     ]
    }
   ],
   "source": [
    "x1_bar  = np.mean(sgl)\n",
    "x2_bar = np.mean(nl)\n",
    "print(x1_bar,x2_bar)"
   ]
  },
  {
   "cell_type": "code",
   "execution_count": 49,
   "metadata": {},
   "outputs": [],
   "source": [
    "# Hypothesis:\n",
    "\n",
    "# Ho : mu of sgl <= mu of not nl\n",
    "# Ha : mu of sgl > mu of not nl"
   ]
  },
  {
   "cell_type": "code",
   "execution_count": null,
   "metadata": {},
   "outputs": [],
   "source": [
    "# Data is normal\n",
    "# pop std is not known\n",
    "# pop is independant\n",
    "# Unpaired two sample t test (right tailed)"
   ]
  },
  {
   "cell_type": "code",
   "execution_count": 52,
   "metadata": {},
   "outputs": [
    {
     "name": "stdout",
     "output_type": "stream",
     "text": [
      "T stat: 0.9984458677537893\n",
      "Two sided Pval: 0.32579344760218754\n",
      "One sided pval: 0.16289672380109377\n"
     ]
    }
   ],
   "source": [
    "ttstat,twosid_pval = stats.ttest_ind(sgl,nl)\n",
    "print('T stat:',ttstat)\n",
    "print('Two sided Pval:',twosid_pval)\n",
    "print('One sided pval:',twosid_pval/2)"
   ]
  },
  {
   "cell_type": "code",
   "execution_count": null,
   "metadata": {},
   "outputs": [],
   "source": [
    "# pval = 0.162\n",
    "# sig lvl = 0.05\n",
    "# pval > sig lvl\n",
    "# Null hypothesis is selected\n",
    "# score of sgl is lesser than nl."
   ]
  },
  {
   "cell_type": "markdown",
   "metadata": {
    "id": "L0LxrVdxjUN9"
   },
   "source": [
    "<a id=\"paired\"></a>\n",
    "## 3.3 Paired t Test"
   ]
  },
  {
   "cell_type": "markdown",
   "metadata": {
    "id": "eRwOufQqjUN9"
   },
   "source": [
    "A paired t-test is used to compare the mean of the population for two dependent samples. The dependent samples can be the scores before and after a specific treatment. \n",
    "\n",
    "Let $X_{i}$ be the sample before the treatment and $Y_{i}$ be the sample after the treatment. Let $\\mu_{X}$, $\\mu_{Y}$ be the mean of the data X and Y respectively. The mean difference $\\mu_{d} = \\mu_{Y} - \\mu_{X}$.\n",
    "\n",
    "The null and alternative hypothesis is given as:\n",
    "\n",
    "<p style='text-indent:25em'> <strong> $H_{0}: \\mu_{d} = \\mu_{0}$ or $\\mu_{d} \\geq \\mu_{0}$ or $\\mu_{d} \\leq \\mu_{0}$</strong></p>\n",
    "<p style='text-indent:25em'> <strong> $H_{1}: \\mu_{d} \\neq \\mu_{0}$ or $\\mu_{d} < \\mu_{0}$ or $\\mu_{d} > \\mu_{0}$</strong></p>\n",
    "\n",
    "The test statistic for paired t-test is given as:\n",
    "<p style='text-indent:25em'> <strong> $t = \\frac{\\overline{X_{D}} - \\mu_{0}} {\\frac{s_{D}}{\\sqrt{n}}}$</strong></p>\n",
    "\n",
    "Where, <br>\n",
    "$\\overline{X_{D}}$: Mean difference between the pairs<br>\n",
    "$\\mu_{0}$: Mean difference given in the null hypothesis<br>\n",
    "$s_{D}$: Standard deviation of differences between the pairs<br>\n",
    "$n$: Sample size\n",
    "\n",
    "Under $H_{0}$, the test statistic follows a t-distribution with (n-1) degrees of freedom."
   ]
  },
  {
   "cell_type": "markdown",
   "metadata": {
    "id": "99MYxwsYjUN-"
   },
   "source": [
    "### Example:\n",
    "\n",
    "#### 1. A training institute wants to check if their writing training program was effective or not. 17 students are selected to check the hypothesis. Consider 0.05 as the level of significance.\n",
    "\n",
    "The writing scores before and after training are provided in the CSV file `WritingScores.csv`. "
   ]
  },
  {
   "cell_type": "code",
   "execution_count": 54,
   "metadata": {
    "scrolled": true
   },
   "outputs": [
    {
     "data": {
      "text/html": [
       "<div>\n",
       "<style scoped>\n",
       "    .dataframe tbody tr th:only-of-type {\n",
       "        vertical-align: middle;\n",
       "    }\n",
       "\n",
       "    .dataframe tbody tr th {\n",
       "        vertical-align: top;\n",
       "    }\n",
       "\n",
       "    .dataframe thead th {\n",
       "        text-align: right;\n",
       "    }\n",
       "</style>\n",
       "<table border=\"1\" class=\"dataframe\">\n",
       "  <thead>\n",
       "    <tr style=\"text-align: right;\">\n",
       "      <th></th>\n",
       "      <th>score_before</th>\n",
       "      <th>score_after</th>\n",
       "    </tr>\n",
       "  </thead>\n",
       "  <tbody>\n",
       "    <tr>\n",
       "      <th>0</th>\n",
       "      <td>59</td>\n",
       "      <td>50</td>\n",
       "    </tr>\n",
       "    <tr>\n",
       "      <th>1</th>\n",
       "      <td>62</td>\n",
       "      <td>67</td>\n",
       "    </tr>\n",
       "    <tr>\n",
       "      <th>2</th>\n",
       "      <td>76</td>\n",
       "      <td>92</td>\n",
       "    </tr>\n",
       "    <tr>\n",
       "      <th>3</th>\n",
       "      <td>32</td>\n",
       "      <td>75</td>\n",
       "    </tr>\n",
       "    <tr>\n",
       "      <th>4</th>\n",
       "      <td>61</td>\n",
       "      <td>98</td>\n",
       "    </tr>\n",
       "  </tbody>\n",
       "</table>\n",
       "</div>"
      ],
      "text/plain": [
       "   score_before  score_after\n",
       "0            59           50\n",
       "1            62           67\n",
       "2            76           92\n",
       "3            32           75\n",
       "4            61           98"
      ]
     },
     "execution_count": 54,
     "metadata": {},
     "output_type": "execute_result"
    }
   ],
   "source": [
    "df = pd.read_csv('WritingScores.csv')\n",
    "df.head()"
   ]
  },
  {
   "cell_type": "code",
   "execution_count": 55,
   "metadata": {},
   "outputs": [],
   "source": [
    "bef_scr = df['score_before']\n",
    "aft_scr = df['score_after']"
   ]
  },
  {
   "cell_type": "code",
   "execution_count": 35,
   "metadata": {},
   "outputs": [],
   "source": [
    "# Test of Normality - Shapiro  test\n",
    "# Ho: skew=0 (normal)\n",
    "# Ha : skew!=0 (not normal)"
   ]
  },
  {
   "cell_type": "code",
   "execution_count": 56,
   "metadata": {},
   "outputs": [
    {
     "data": {
      "text/plain": [
       "ShapiroResult(statistic=0.9473825097084045, pvalue=0.416460782289505)"
      ]
     },
     "execution_count": 56,
     "metadata": {},
     "output_type": "execute_result"
    }
   ],
   "source": [
    "stats.shapiro(bef_scr)"
   ]
  },
  {
   "cell_type": "code",
   "execution_count": 37,
   "metadata": {},
   "outputs": [],
   "source": [
    "# pval =0.41\n",
    "# sig lvl = 0.05\n",
    "# pval> sig lvl . Ho is selected\n",
    "# skew = 0 (Data is normal)"
   ]
  },
  {
   "cell_type": "code",
   "execution_count": 57,
   "metadata": {},
   "outputs": [
    {
     "data": {
      "text/plain": [
       "ShapiroResult(statistic=0.9686523675918579, pvalue=0.7944130897521973)"
      ]
     },
     "execution_count": 57,
     "metadata": {},
     "output_type": "execute_result"
    }
   ],
   "source": [
    "stats.shapiro(aft_scr)"
   ]
  },
  {
   "cell_type": "code",
   "execution_count": 58,
   "metadata": {},
   "outputs": [],
   "source": [
    "# pval =0.79\n",
    "# sig lvl = 0.05\n",
    "# pval> sig lvl . Ho is selected\n",
    "# skew = 0 (Data is normal)"
   ]
  },
  {
   "cell_type": "code",
   "execution_count": 59,
   "metadata": {},
   "outputs": [
    {
     "name": "stdout",
     "output_type": "stream",
     "text": [
      "67.05882352941177 73.41176470588235\n"
     ]
    }
   ],
   "source": [
    "x1_bar  = np.mean(bef_scr)\n",
    "x2_bar = np.mean(aft_scr)\n",
    "print(x1_bar,x2_bar)"
   ]
  },
  {
   "cell_type": "code",
   "execution_count": 49,
   "metadata": {},
   "outputs": [],
   "source": [
    "# Hypothesis:\n",
    "\n",
    "# Ho : mu of before  >=  mu of after\n",
    "# Ha : mu of before  <  mu of after"
   ]
  },
  {
   "cell_type": "code",
   "execution_count": null,
   "metadata": {},
   "outputs": [],
   "source": [
    "# Data is normal\n",
    "# pop std is not known\n",
    "# pop is dependant\n",
    "# paired two sample t test (left tailed)"
   ]
  },
  {
   "cell_type": "code",
   "execution_count": 60,
   "metadata": {},
   "outputs": [
    {
     "name": "stdout",
     "output_type": "stream",
     "text": [
      "T stat: -1.4394882729049499\n",
      "Two sided Pval: 0.16929012896279846\n",
      "One sided pval: 0.08464506448139923\n"
     ]
    }
   ],
   "source": [
    "ttstat,twosid_pval = stats.ttest_rel(bef_scr,aft_scr)\n",
    "print('T stat:',ttstat)\n",
    "print('Two sided Pval:',twosid_pval)\n",
    "print('One sided pval:',twosid_pval/2)"
   ]
  },
  {
   "cell_type": "code",
   "execution_count": 64,
   "metadata": {},
   "outputs": [
    {
     "name": "stdout",
     "output_type": "stream",
     "text": [
      "T stat: -1.4394882729049499\n",
      "Two sided Pval: 0.16929012896279846\n",
      "One sided pval: 0.08464506448139923\n"
     ]
    }
   ],
   "source": [
    "# ALiter: \n",
    "diff = bef_scr-aft_scr\n",
    "ttstat,twosid_pval = stats.ttest_1samp(diff,popmean=0)\n",
    "print('T stat:',ttstat)\n",
    "print('Two sided Pval:',twosid_pval)\n",
    "print('One sided pval:',twosid_pval/2)"
   ]
  },
  {
   "cell_type": "code",
   "execution_count": 61,
   "metadata": {},
   "outputs": [],
   "source": [
    "# pval = 0.08\n",
    "# sig lvl = 0.05\n",
    "# pval > sig lvl\n",
    "# Null hypothesis is selected\n",
    "# score of before is greater than after."
   ]
  },
  {
   "cell_type": "markdown",
   "metadata": {
    "id": "DZHZrGTxjUOS"
   },
   "source": [
    "#### 2. An energy drink distributor claims that a new advertisement poster, featuring a life-size picture of a well-known athlete, will increase the product sales in outlets by an average of 50 bottles in a week. For a random sample of 10 outlets, the following data was collected. Test that the null hypothesis that there the advertisement was effective in increasing sales. Test the hypothesis using critical region technique. Use α = 0.05.\n",
    "\n",
    "Given data:\n",
    "\n",
    "        sales_before = [33, 32, 38, 45, 37, 47, 48, 41, 45]\n",
    "        sales_after = [42, 35, 31, 41, 37, 36, 49, 49, 48]"
   ]
  },
  {
   "cell_type": "markdown",
   "metadata": {
    "id": "Qnofe5hBjUOf"
   },
   "source": [
    "<a id=\"prop\"></a>\n",
    "# 4. Z Proportion Test"
   ]
  },
  {
   "cell_type": "markdown",
   "metadata": {
    "id": "z95224vGjUOf"
   },
   "source": [
    "<a id=\"1_p\"></a>\n",
    "## 4.1 One Sample Test"
   ]
  },
  {
   "cell_type": "markdown",
   "metadata": {
    "id": "4xvgUcCtjUOf"
   },
   "source": [
    "Perform one sample Z test for the population proportion. We compare the population proportion ($P$) with a specific value ($P_{0}$).\n",
    "\n",
    "The null and alternative hypothesis is given as:\n",
    "\n",
    "<p style='text-indent:25em'> <strong> $H_{0}: P = P_{0}$ or $P \\geq P_{0}$ or $P \\leq P_{0}$</strong></p>\n",
    "<p style='text-indent:25em'> <strong> $H_{1}: P \\neq P_{0}$ or $P < P_{0}$ or $P > P_{0}$</strong></p>"
   ]
  },
  {
   "cell_type": "markdown",
   "metadata": {
    "id": "CjLNMxSqjUOg"
   },
   "source": [
    "The test statistic for proportion Z-test is given as:\n",
    "<p style='text-indent:25em'> <strong> $Z = \\frac{p -  P_{0}}{\\sqrt{\\frac{P_{0}(1-P_{0})}{n}}}$</strong></p>\n",
    "\n",
    "Where, <br>\n",
    "$p$: Sample proportion<br>\n",
    "$n$: Sample size\n",
    "\n",
    "Under $H_{0}$, the test statistic follows a standard normal distribution."
   ]
  },
  {
   "cell_type": "markdown",
   "metadata": {
    "id": "BAsQHKx6jUOg"
   },
   "source": [
    "### Example:\n",
    "\n",
    "#### 1. In previous years, people believed that at most 80% of male students score more than 50 marks out of 100 in Mathematics. Perform a test to check whether this percentage is more than 80. Consider the level of significance as 0.05.\n",
    "\n",
    "Consider the sample of math scores of male students available in the CSV file `StudentsPerformance.csv`."
   ]
  },
  {
   "cell_type": "code",
   "execution_count": 69,
   "metadata": {
    "scrolled": false
   },
   "outputs": [
    {
     "data": {
      "text/html": [
       "<div>\n",
       "<style scoped>\n",
       "    .dataframe tbody tr th:only-of-type {\n",
       "        vertical-align: middle;\n",
       "    }\n",
       "\n",
       "    .dataframe tbody tr th {\n",
       "        vertical-align: top;\n",
       "    }\n",
       "\n",
       "    .dataframe thead th {\n",
       "        text-align: right;\n",
       "    }\n",
       "</style>\n",
       "<table border=\"1\" class=\"dataframe\">\n",
       "  <thead>\n",
       "    <tr style=\"text-align: right;\">\n",
       "      <th></th>\n",
       "      <th>gender</th>\n",
       "      <th>race/ethnicity</th>\n",
       "      <th>lunch</th>\n",
       "      <th>test preparation course</th>\n",
       "      <th>math score</th>\n",
       "      <th>reading score</th>\n",
       "      <th>writing score</th>\n",
       "      <th>total score</th>\n",
       "      <th>training institute</th>\n",
       "    </tr>\n",
       "  </thead>\n",
       "  <tbody>\n",
       "    <tr>\n",
       "      <th>0</th>\n",
       "      <td>female</td>\n",
       "      <td>group B</td>\n",
       "      <td>standard</td>\n",
       "      <td>none</td>\n",
       "      <td>89</td>\n",
       "      <td>55</td>\n",
       "      <td>56</td>\n",
       "      <td>200</td>\n",
       "      <td>Nature Learning</td>\n",
       "    </tr>\n",
       "    <tr>\n",
       "      <th>1</th>\n",
       "      <td>female</td>\n",
       "      <td>group C</td>\n",
       "      <td>standard</td>\n",
       "      <td>completed</td>\n",
       "      <td>55</td>\n",
       "      <td>63</td>\n",
       "      <td>72</td>\n",
       "      <td>190</td>\n",
       "      <td>Nature Learning</td>\n",
       "    </tr>\n",
       "    <tr>\n",
       "      <th>2</th>\n",
       "      <td>female</td>\n",
       "      <td>group B</td>\n",
       "      <td>standard</td>\n",
       "      <td>none</td>\n",
       "      <td>64</td>\n",
       "      <td>71</td>\n",
       "      <td>56</td>\n",
       "      <td>191</td>\n",
       "      <td>Nature Learning</td>\n",
       "    </tr>\n",
       "    <tr>\n",
       "      <th>3</th>\n",
       "      <td>male</td>\n",
       "      <td>group A</td>\n",
       "      <td>free/reduced</td>\n",
       "      <td>none</td>\n",
       "      <td>60</td>\n",
       "      <td>99</td>\n",
       "      <td>72</td>\n",
       "      <td>231</td>\n",
       "      <td>Nature Learning</td>\n",
       "    </tr>\n",
       "    <tr>\n",
       "      <th>4</th>\n",
       "      <td>male</td>\n",
       "      <td>group C</td>\n",
       "      <td>standard</td>\n",
       "      <td>none</td>\n",
       "      <td>75</td>\n",
       "      <td>66</td>\n",
       "      <td>51</td>\n",
       "      <td>192</td>\n",
       "      <td>Nature Learning</td>\n",
       "    </tr>\n",
       "  </tbody>\n",
       "</table>\n",
       "</div>"
      ],
      "text/plain": [
       "   gender race/ethnicity         lunch test preparation course  math score  \\\n",
       "0  female        group B      standard                    none          89   \n",
       "1  female        group C      standard               completed          55   \n",
       "2  female        group B      standard                    none          64   \n",
       "3    male        group A  free/reduced                    none          60   \n",
       "4    male        group C      standard                    none          75   \n",
       "\n",
       "   reading score  writing score  total score training institute  \n",
       "0             55             56          200    Nature Learning  \n",
       "1             63             72          190    Nature Learning  \n",
       "2             71             56          191    Nature Learning  \n",
       "3             99             72          231    Nature Learning  \n",
       "4             66             51          192    Nature Learning  "
      ]
     },
     "execution_count": 69,
     "metadata": {},
     "output_type": "execute_result"
    }
   ],
   "source": [
    "df =pd.read_csv('StudentsPerformance.csv')\n",
    "df.head()"
   ]
  },
  {
   "cell_type": "code",
   "execution_count": 77,
   "metadata": {},
   "outputs": [
    {
     "name": "stdout",
     "output_type": "stream",
     "text": [
      "0.8757763975155279\n"
     ]
    }
   ],
   "source": [
    "male_gr_50 = df[(df['gender']=='male')&(df['math score']>50)]\n",
    "male =df[df['gender']=='male']\n",
    "p_sam = len(male_gr_50)/len(male)\n",
    "print(p_sam)"
   ]
  },
  {
   "cell_type": "code",
   "execution_count": 76,
   "metadata": {},
   "outputs": [
    {
     "data": {
      "text/plain": [
       "(483, 423)"
      ]
     },
     "execution_count": 76,
     "metadata": {},
     "output_type": "execute_result"
    }
   ],
   "source": [
    "len(male),len(male_gr_50)"
   ]
  },
  {
   "cell_type": "code",
   "execution_count": 78,
   "metadata": {},
   "outputs": [],
   "source": [
    "# Ho : p <= 0.8\n",
    "# Ha : p>0.8"
   ]
  },
  {
   "cell_type": "code",
   "execution_count": 82,
   "metadata": {},
   "outputs": [
    {
     "name": "stdout",
     "output_type": "stream",
     "text": [
      "Test stat: 5.049040355417874\n",
      "pval: 2.2201746989024182e-07\n"
     ]
    }
   ],
   "source": [
    "p_sam = len(male_gr_50)/len(male)\n",
    "p_pop = 0.8\n",
    "n = len(male)\n",
    "num = p_sam-p_pop\n",
    "den = np.sqrt((p_sam*(1-p_sam))/n)\n",
    "zstat = num/den\n",
    "print('Test stat:',zstat)\n",
    "pval = stats.norm.sf(zstat)\n",
    "print('pval:',pval)"
   ]
  },
  {
   "cell_type": "code",
   "execution_count": null,
   "metadata": {},
   "outputs": [],
   "source": [
    "# pval = 0\n",
    "# sig lvl = 0.05\n",
    "# pval < sig.lvl\n",
    "# Null hypothesis is rejected. Ha is selected\n",
    "# proportion is greater than 0.8"
   ]
  },
  {
   "cell_type": "markdown",
   "metadata": {},
   "source": [
    "#### A claim states 70% people opts of LED Tv. A sample if 100 people is choosen and found tha 65% of people are opting LED tv. Test the hypothesis with 95% CI."
   ]
  },
  {
   "cell_type": "code",
   "execution_count": null,
   "metadata": {},
   "outputs": [],
   "source": []
  },
  {
   "cell_type": "markdown",
   "metadata": {
    "id": "CjjxOuZ6jUOt"
   },
   "source": [
    "#### 2. From a sample of 361 business owners had gone into bankruptcy due to recession. On taking a survey, it was found that 105 of them had not consulted any professional for managing their finance before opening the business. Test the null hypothesis that at most 25% of all businesses had not consulted before opening the business. Test the claim using p-value technique. Use α = 0.05."
   ]
  },
  {
   "cell_type": "code",
   "execution_count": null,
   "metadata": {},
   "outputs": [],
   "source": []
  },
  {
   "cell_type": "markdown",
   "metadata": {
    "id": "da2MCj6mjUOx"
   },
   "source": [
    "<a id=\"2_p\"></a>\n",
    "## 4.2 Two Sample Test"
   ]
  },
  {
   "cell_type": "markdown",
   "metadata": {
    "id": "q88y4I7AjUOz"
   },
   "source": [
    "Perform two sample Z test for the population proportion. We check the equality of population proportions $P_{1}$ and $P_{2}$.\n",
    "\n",
    "The null and alternative hypothesis is given as:\n",
    "\n",
    "<p style='text-indent:25em'> <strong> $H_{0}: P_{1} - P_{2} = P_{0}$ or $P_{1} - P_{2} \\geq P_{0}$ or $P_{1} - P_{2} \\leq P_{0}$</strong></p>\n",
    "<p style='text-indent:25em'> <strong> $H_{1}: P_{1} - P_{2} \\neq P_{0}$ or $P_{1} - P_{2} < P_{0}$ or $P_{1} - P_{2} > P_{0}$</strong></p>"
   ]
  },
  {
   "cell_type": "markdown",
   "metadata": {
    "id": "5FLa5YnSjUOz"
   },
   "source": [
    "The test statistic for two sample proportion Z-test is given as:\n",
    "<p style='text-indent:25em'> <strong> $Z = \\frac{(p_{1} -  p_{2}) - P_{0}}{\\sqrt{\\bar{P}(1-\\bar{P})(\\frac{1}{n_{1}} + \\frac{1}{n_{2}})}}$   $\\hspace{2 cm} \\bar{P} = \\frac{n_{1}p_{1} + n_{2}p_{2}}{n_{1} + n_{2}}$ </strong></p>\n",
    "\n",
    "Where, <br>\n",
    "$p_{1}, p_{2}$: Samples proportions<br>\n",
    "$P_{0}$: Hypothesized proportion<br>\n",
    "$\\bar{P}$: Proportion of pooled sample<br>\n",
    "$n_{1}, n_{2}$: Samples sizes"
   ]
  },
  {
   "cell_type": "markdown",
   "metadata": {
    "id": "_Nnef7g_jUO0"
   },
   "source": [
    "### Example:\n",
    "\n",
    "#### 1. A team of nutritionists believes that each institute provides 'standard' lunch to an equal proportion of students. A sample of students from institutes <i>Nature Learning</i> and <i>Speak Global Learning</i> is given. Consider the null hypothesis as equality of proportion with 0.1 level of significance.\n",
    "\n",
    "Consider the sample data available in the CSV file `StudentsPerformance.csv`."
   ]
  },
  {
   "cell_type": "code",
   "execution_count": 83,
   "metadata": {
    "id": "9D6_FJWsjUO0",
    "outputId": "2ff2cc81-91db-4cee-c5cf-28587e38f078",
    "scrolled": true
   },
   "outputs": [
    {
     "data": {
      "text/html": [
       "<div>\n",
       "<style scoped>\n",
       "    .dataframe tbody tr th:only-of-type {\n",
       "        vertical-align: middle;\n",
       "    }\n",
       "\n",
       "    .dataframe tbody tr th {\n",
       "        vertical-align: top;\n",
       "    }\n",
       "\n",
       "    .dataframe thead th {\n",
       "        text-align: right;\n",
       "    }\n",
       "</style>\n",
       "<table border=\"1\" class=\"dataframe\">\n",
       "  <thead>\n",
       "    <tr style=\"text-align: right;\">\n",
       "      <th></th>\n",
       "      <th>gender</th>\n",
       "      <th>race/ethnicity</th>\n",
       "      <th>lunch</th>\n",
       "      <th>test preparation course</th>\n",
       "      <th>math score</th>\n",
       "      <th>reading score</th>\n",
       "      <th>writing score</th>\n",
       "      <th>total score</th>\n",
       "      <th>training institute</th>\n",
       "    </tr>\n",
       "  </thead>\n",
       "  <tbody>\n",
       "    <tr>\n",
       "      <th>0</th>\n",
       "      <td>female</td>\n",
       "      <td>group B</td>\n",
       "      <td>standard</td>\n",
       "      <td>none</td>\n",
       "      <td>89</td>\n",
       "      <td>55</td>\n",
       "      <td>56</td>\n",
       "      <td>200</td>\n",
       "      <td>Nature Learning</td>\n",
       "    </tr>\n",
       "    <tr>\n",
       "      <th>1</th>\n",
       "      <td>female</td>\n",
       "      <td>group C</td>\n",
       "      <td>standard</td>\n",
       "      <td>completed</td>\n",
       "      <td>55</td>\n",
       "      <td>63</td>\n",
       "      <td>72</td>\n",
       "      <td>190</td>\n",
       "      <td>Nature Learning</td>\n",
       "    </tr>\n",
       "    <tr>\n",
       "      <th>2</th>\n",
       "      <td>female</td>\n",
       "      <td>group B</td>\n",
       "      <td>standard</td>\n",
       "      <td>none</td>\n",
       "      <td>64</td>\n",
       "      <td>71</td>\n",
       "      <td>56</td>\n",
       "      <td>191</td>\n",
       "      <td>Nature Learning</td>\n",
       "    </tr>\n",
       "    <tr>\n",
       "      <th>3</th>\n",
       "      <td>male</td>\n",
       "      <td>group A</td>\n",
       "      <td>free/reduced</td>\n",
       "      <td>none</td>\n",
       "      <td>60</td>\n",
       "      <td>99</td>\n",
       "      <td>72</td>\n",
       "      <td>231</td>\n",
       "      <td>Nature Learning</td>\n",
       "    </tr>\n",
       "    <tr>\n",
       "      <th>4</th>\n",
       "      <td>male</td>\n",
       "      <td>group C</td>\n",
       "      <td>standard</td>\n",
       "      <td>none</td>\n",
       "      <td>75</td>\n",
       "      <td>66</td>\n",
       "      <td>51</td>\n",
       "      <td>192</td>\n",
       "      <td>Nature Learning</td>\n",
       "    </tr>\n",
       "  </tbody>\n",
       "</table>\n",
       "</div>"
      ],
      "text/plain": [
       "   gender race/ethnicity         lunch test preparation course  math score  \\\n",
       "0  female        group B      standard                    none          89   \n",
       "1  female        group C      standard               completed          55   \n",
       "2  female        group B      standard                    none          64   \n",
       "3    male        group A  free/reduced                    none          60   \n",
       "4    male        group C      standard                    none          75   \n",
       "\n",
       "   reading score  writing score  total score training institute  \n",
       "0             55             56          200    Nature Learning  \n",
       "1             63             72          190    Nature Learning  \n",
       "2             71             56          191    Nature Learning  \n",
       "3             99             72          231    Nature Learning  \n",
       "4             66             51          192    Nature Learning  "
      ]
     },
     "execution_count": 83,
     "metadata": {},
     "output_type": "execute_result"
    }
   ],
   "source": [
    "# read the students performance data \n",
    "df = pd.read_csv('StudentsPerformance.csv')\n",
    "\n",
    "# display the first two observations\n",
    "df.head(5)"
   ]
  },
  {
   "cell_type": "code",
   "execution_count": 96,
   "metadata": {},
   "outputs": [],
   "source": [
    "nl = df[df['training institute']=='Nature Learning']\n",
    "nl_std = nl[nl['lunch']=='standard']\n",
    "nl_count = len(nl)\n",
    "nl_std_count = len(nl_std)\n",
    "p_nl = nl_std_count/nl_count"
   ]
  },
  {
   "cell_type": "code",
   "execution_count": 97,
   "metadata": {},
   "outputs": [],
   "source": [
    "sgl = df[df['training institute']=='Speak Global Learning']\n",
    "sgl_std = sgl[sgl['lunch']=='standard']\n",
    "sgl_count = len(sgl)\n",
    "sgl_std_count = len(sgl_std)\n",
    "p_sgl = sgl_std_count/sgl_count"
   ]
  },
  {
   "cell_type": "code",
   "execution_count": 98,
   "metadata": {},
   "outputs": [],
   "source": [
    "# Ho : p1=p2\n",
    "# Ha : p1!=p2"
   ]
  },
  {
   "cell_type": "code",
   "execution_count": 99,
   "metadata": {},
   "outputs": [],
   "source": [
    "from statsmodels.stats import proportion"
   ]
  },
  {
   "cell_type": "code",
   "execution_count": 102,
   "metadata": {},
   "outputs": [
    {
     "name": "stdout",
     "output_type": "stream",
     "text": [
      "Zstat: 0.7935300106078008\n",
      "Pval: 0.4274690915859791\n"
     ]
    }
   ],
   "source": [
    "zstat,pvalue=proportion.proportions_ztest(count=[nl_std_count,sgl_std_count]\n",
    "                             ,nobs=[nl_count,sgl_count])\n",
    "\n",
    "# Count - favorable count\n",
    "# nobs - total count\n",
    "\n",
    "print('Zstat:',zstat)\n",
    "print('Pval:',pvalue)"
   ]
  },
  {
   "cell_type": "code",
   "execution_count": 103,
   "metadata": {},
   "outputs": [],
   "source": [
    "# pval=0.42\n",
    "# sig lvl =0.01\n",
    "# pval > sig lvl\n",
    "# Ho is selected.\n",
    "# proportions are equal."
   ]
  },
  {
   "cell_type": "markdown",
   "metadata": {
    "id": "122B7SORjUPD"
   },
   "source": [
    "#### 2. Steve owns a kiosk where he sells two magazines - A and B in a month. He buys 100 copies of magazine A out of which 78 were sold and 70 copies of magazine B out of which 65 were sold. Is there enough evidence to say that magazine is B is more popular? Test the claim using p-value technique with α = 0.05."
   ]
  },
  {
   "cell_type": "code",
   "execution_count": 104,
   "metadata": {},
   "outputs": [
    {
     "name": "stdout",
     "output_type": "stream",
     "text": [
      "0.78 0.9285714285714286\n"
     ]
    }
   ],
   "source": [
    "a_count = 100\n",
    "a_sold_count =78\n",
    "b_count = 70\n",
    "b_sold_count =65\n",
    "a_prop = a_sold_count/a_count\n",
    "b_prop = b_sold_count/b_count\n",
    "print(a_prop,b_prop)"
   ]
  },
  {
   "cell_type": "code",
   "execution_count": 105,
   "metadata": {},
   "outputs": [],
   "source": [
    "# Ho :  p1>=p2\n",
    "# Ha  : p1<p2"
   ]
  },
  {
   "cell_type": "code",
   "execution_count": 107,
   "metadata": {},
   "outputs": [
    {
     "name": "stdout",
     "output_type": "stream",
     "text": [
      "Zstat: -2.60830803458311\n",
      "Pval: 0.004549551600547303\n"
     ]
    }
   ],
   "source": [
    "zstat,twosid_pvalue=proportion.proportions_ztest(count=[a_sold_count,b_sold_count]\n",
    "                             ,nobs=[a_count,b_count])\n",
    "\n",
    "# Count - favorable count\n",
    "# nobs - total count\n",
    "\n",
    "print('Zstat:',zstat)\n",
    "print('Pval:',twosid_pvalue/2)\n",
    "\n"
   ]
  },
  {
   "cell_type": "code",
   "execution_count": null,
   "metadata": {},
   "outputs": [],
   "source": [
    "# pval=0.004\n",
    "# sig lvl =0.05\n",
    "# pval < sig lvl\n",
    "# Ho is rejected.\n",
    "# proportions A magazine is lesser than B magazine."
   ]
  },
  {
   "cell_type": "markdown",
   "metadata": {
    "id": "qkhttJMXjUPG"
   },
   "source": [
    "<a id=\"non_para\"></a>\n",
    "# 5. Non-parametric Tests"
   ]
  },
  {
   "cell_type": "markdown",
   "metadata": {
    "id": "YA9IO5pHjUPG"
   },
   "source": [
    "Parametric tests are the test in which the distribution of the sample is known. The non-parametric tests can be used when the assumptions of parametric tests are not satisfied.\n",
    "\n",
    "`Non-parametric tests` do not require any assumptions about the distribution of the population from which the sample is taken. These tests can be applied to the ordinal/ nominal data. A non-parametric test can be performed on the data containing outliers. The observations in the sample are assumed to be independent for a non-parametric test."
   ]
  },
  {
   "cell_type": "markdown",
   "metadata": {
    "id": "1BiM3FVxjUPG"
   },
   "source": [
    "<a id=\"1samp\"></a>\n",
    "## 5.1 Wilcoxon Signed Rank Test"
   ]
  },
  {
   "cell_type": "markdown",
   "metadata": {
    "id": "xh8fXVp_jUPG"
   },
   "source": [
    "### 1. One-sample Test\n",
    "\n",
    "Wilcoxon signed rank test is used to compare the median (M) of a sample to a specific value ($M_{0}$). This test is a non-parametric alternative to the one-sample t-test which is used to compare the mean of population with a specific value.\n",
    "\n",
    "The null and alternative hypothesis is given as:\n",
    "\n",
    "<p style='text-indent:25em'> <strong> $H_{0}: M = M_{0}$ or $M \\geq M_{0}$ or $M \\leq M_{0}$</strong></p>\n",
    "<p style='text-indent:25em'> <strong> $H_{1}: M \\neq M_{0}$ or $M < M_{0}$ or $M > M_{0}$</strong></p>\n",
    "\n",
    "To perform the test, arrange the sample into ascending order and calculate the difference between the sample point and $M_{0}$. Rank the absolute value of differences using the integers starting from 1 giving the average of ranks to the tied difference. "
   ]
  },
  {
   "cell_type": "markdown",
   "metadata": {
    "id": "QY5MpVOmjUPH"
   },
   "source": [
    "### Example:"
   ]
  },
  {
   "cell_type": "markdown",
   "metadata": {
    "id": "HYRNWf7VjUPJ"
   },
   "source": [
    "#### 1. The Sweet Life company that produces hand sanitizers states sanitizer contains average volume of   alcohol in 0.82.Perfrom hypothesis testing with   α = 0.1\n",
    "\n",
    "Given data:\n",
    "\n",
    "        alc_per = [0.32, 0.43, 0.38, 0.35, 0.85, 0.79]"
   ]
  },
  {
   "cell_type": "code",
   "execution_count": 108,
   "metadata": {},
   "outputs": [],
   "source": [
    "alc_per = [0.32, 0.43, 0.38, 0.35, 0.85, 0.79]"
   ]
  },
  {
   "cell_type": "code",
   "execution_count": 35,
   "metadata": {},
   "outputs": [],
   "source": [
    "# Test of Normality - Shapiro  test\n",
    "# Ho: skew=0 (normal)\n",
    "# Ha : skew!=0 (not normal)"
   ]
  },
  {
   "cell_type": "code",
   "execution_count": 109,
   "metadata": {},
   "outputs": [
    {
     "data": {
      "text/plain": [
       "ShapiroResult(statistic=0.7890822291374207, pvalue=0.04677129536867142)"
      ]
     },
     "execution_count": 109,
     "metadata": {},
     "output_type": "execute_result"
    }
   ],
   "source": [
    "stats.shapiro(alc_per)"
   ]
  },
  {
   "cell_type": "code",
   "execution_count": 37,
   "metadata": {},
   "outputs": [],
   "source": [
    "# pval =0.04\n",
    "# sig lvl = 0.05\n",
    "# pval< sig lvl . Ha is selected\n",
    "# skew != 0 (Data is not normal)"
   ]
  },
  {
   "cell_type": "code",
   "execution_count": 110,
   "metadata": {},
   "outputs": [],
   "source": [
    "# Ho : median of alcohol percent = 0.82\n",
    "# Ha :  median of alcohol percent != 0.82"
   ]
  },
  {
   "cell_type": "code",
   "execution_count": 111,
   "metadata": {},
   "outputs": [],
   "source": [
    "# Data is not normal\n",
    "# One sample wilcoxon(Two tailed)"
   ]
  },
  {
   "cell_type": "code",
   "execution_count": 115,
   "metadata": {},
   "outputs": [],
   "source": [
    "m0=0.82\n",
    "diff = np.array(alc_per)-m0"
   ]
  },
  {
   "cell_type": "code",
   "execution_count": 117,
   "metadata": {},
   "outputs": [
    {
     "name": "stdout",
     "output_type": "stream",
     "text": [
      "Test statistic: 2.0\n",
      "Pval: 0.09375\n"
     ]
    }
   ],
   "source": [
    "tstat,pval = stats.wilcoxon(diff)\n",
    "print('Test statistic:',tstat)\n",
    "print('Pval:',pval)"
   ]
  },
  {
   "cell_type": "code",
   "execution_count": null,
   "metadata": {},
   "outputs": [],
   "source": [
    "# pval = 0.09\n",
    "# sig lvl =0.1\n",
    "# pval < sig lvl\n",
    "# Ho is rejected. Ha is selected\n",
    "# Median of alcohol is not 0.82"
   ]
  },
  {
   "cell_type": "markdown",
   "metadata": {
    "id": "Ey_a-kB-jUPL"
   },
   "source": [
    "### 2. Two-sample Paired Test\n",
    "\n",
    "Wilcoxon signed rank test can be used to compare medians of paired data. This test is a non-parametric alternative to the paired t-test. Let us consider variables X and Y. The median of the difference between the two paired samples is denoted by $M_{d}$. Where the difference between two samples is given as, $d_{i} = x_{i} - y_{i}$\n",
    "\n"
   ]
  },
  {
   "cell_type": "markdown",
   "metadata": {
    "id": "xvyaJKzLjUPM"
   },
   "source": [
    "### Example:"
   ]
  },
  {
   "cell_type": "markdown",
   "metadata": {
    "id": "E4ftdVoNjUPM"
   },
   "source": [
    "#### 1. The weights (in kg) of five hens before and after a special diet of millets was given. Test the hypothesis that the new millet diet has increased the weight of the hens at a 5% level of significance.\n",
    "\n",
    "        before_wt = [2.7, 1.1, 1.4, 0.9, 0.9] \n",
    "        after_wt = [1.3, 1.4, 1.1, 1.3, 1.9] "
   ]
  },
  {
   "cell_type": "code",
   "execution_count": 118,
   "metadata": {},
   "outputs": [],
   "source": [
    "before_wt = [2.7, 1.1, 1.4, 0.9, 0.9] \n",
    "after_wt = [1.3, 1.4, 1.1, 1.3, 1.9] "
   ]
  },
  {
   "cell_type": "code",
   "execution_count": 35,
   "metadata": {},
   "outputs": [],
   "source": [
    "# Test of Normality - Shapiro  test\n",
    "# Ho: skew=0 (normal)\n",
    "# Ha : skew!=0 (not normal)"
   ]
  },
  {
   "cell_type": "code",
   "execution_count": 119,
   "metadata": {
    "scrolled": true
   },
   "outputs": [
    {
     "data": {
      "text/plain": [
       "ShapiroResult(statistic=0.7607763409614563, pvalue=0.037337224930524826)"
      ]
     },
     "execution_count": 119,
     "metadata": {},
     "output_type": "execute_result"
    }
   ],
   "source": [
    "stats.shapiro(before_wt)"
   ]
  },
  {
   "cell_type": "code",
   "execution_count": 37,
   "metadata": {},
   "outputs": [],
   "source": [
    "# pval =0.03\n",
    "# sig lvl = 0.05\n",
    "# pval< sig lvl . Ha is selected\n",
    "# skew != 0 (Data is not normal)"
   ]
  },
  {
   "cell_type": "code",
   "execution_count": 120,
   "metadata": {
    "scrolled": true
   },
   "outputs": [
    {
     "data": {
      "text/plain": [
       "ShapiroResult(statistic=0.8582397699356079, pvalue=0.22199729084968567)"
      ]
     },
     "execution_count": 120,
     "metadata": {},
     "output_type": "execute_result"
    }
   ],
   "source": [
    "stats.shapiro(after_wt)"
   ]
  },
  {
   "cell_type": "code",
   "execution_count": 37,
   "metadata": {},
   "outputs": [],
   "source": [
    "# pval =0.22\n",
    "# sig lvl = 0.05\n",
    "# pval > sig lvl . Ho is selected\n",
    "# skew = 0 (Data is  normal)"
   ]
  },
  {
   "cell_type": "code",
   "execution_count": null,
   "metadata": {},
   "outputs": [],
   "source": [
    "# Any one sample is not normal. non parametric needs to be done."
   ]
  },
  {
   "cell_type": "code",
   "execution_count": 121,
   "metadata": {},
   "outputs": [
    {
     "data": {
      "text/plain": [
       "(1.1, 1.3)"
      ]
     },
     "execution_count": 121,
     "metadata": {},
     "output_type": "execute_result"
    }
   ],
   "source": [
    "np.median(before_wt),np.median(after_wt)"
   ]
  },
  {
   "cell_type": "code",
   "execution_count": null,
   "metadata": {},
   "outputs": [],
   "source": [
    "# Ho : median of before weight >= median of after weight\n",
    "# Ha : median of before weight < median of after weight"
   ]
  },
  {
   "cell_type": "code",
   "execution_count": 123,
   "metadata": {},
   "outputs": [
    {
     "name": "stdout",
     "output_type": "stream",
     "text": [
      "Test statistic: 6.5\n",
      "Pval: 0.40625\n"
     ]
    }
   ],
   "source": [
    "tstat,twosid_pval = stats.wilcoxon(before_wt,after_wt)\n",
    "print('Test statistic:',tstat)\n",
    "print('Pval:',twosid_pval/2)"
   ]
  },
  {
   "cell_type": "code",
   "execution_count": null,
   "metadata": {},
   "outputs": [],
   "source": [
    "# pval = 0.40\n",
    "# sig lvl =0.05\n",
    "# pval > sig lvl\n",
    "# Ho is not rejected. \n",
    "# Median of before weight is greater that after after. So program is not\n",
    "# efficient."
   ]
  },
  {
   "cell_type": "markdown",
   "metadata": {
    "id": "zCTEmlB8jUPZ"
   },
   "source": [
    "<a id=\"m_w\"></a>\n",
    "## 5.2 Mann-Whitney U Test"
   ]
  },
  {
   "cell_type": "markdown",
   "metadata": {
    "id": "KRW6uYpTjUPa"
   },
   "source": [
    "It is a non-parametric test that compares the distributions of independent populations. This test can be used as a non-parametric alternative for the unpaired t-test. \n",
    "Consider a sample of size $n_{1}$ from a random variable X and another sample of size $n_{2}$ from a random variable Y.\n",
    "\n"
   ]
  },
  {
   "cell_type": "markdown",
   "metadata": {
    "id": "I4yrPJwkjUPa"
   },
   "source": [
    "### Examples:\n",
    "\n",
    "#### 1. Two companies EyeCare and VisionFirst produces timolol eye drops. The sample of 5 bottles from both companies is selceted and the content of timolol maleate in milligram is recorded. Perform Mann-Whitney U test to test whether the amount of timolol maleate is different for both the companies. Use level of significance as 0.05.\n",
    "\n",
    "Given data:\n",
    "\n",
    "        eyecare = [6.18, 6.45, 6.21, 8.68, 8.45]\n",
    "        visionfirst = [5.8, 7.8, 6.2, 5.9, 6.2]"
   ]
  },
  {
   "cell_type": "code",
   "execution_count": 124,
   "metadata": {},
   "outputs": [],
   "source": [
    "eyecare = [6.18, 6.45, 6.21, 8.68, 8.45]\n",
    "visionfirst = [5.8, 7.8, 6.2, 5.9, 6.2]"
   ]
  },
  {
   "cell_type": "code",
   "execution_count": 35,
   "metadata": {},
   "outputs": [],
   "source": [
    "# Test of Normality - Shapiro  test\n",
    "# Ho: skew=0 (normal)\n",
    "# Ha : skew!=0 (not normal)"
   ]
  },
  {
   "cell_type": "code",
   "execution_count": 125,
   "metadata": {
    "scrolled": true
   },
   "outputs": [
    {
     "data": {
      "text/plain": [
       "ShapiroResult(statistic=0.7654824256896973, pvalue=0.04114510864019394)"
      ]
     },
     "execution_count": 125,
     "metadata": {},
     "output_type": "execute_result"
    }
   ],
   "source": [
    "stats.shapiro(eyecare)"
   ]
  },
  {
   "cell_type": "code",
   "execution_count": 37,
   "metadata": {},
   "outputs": [],
   "source": [
    "# pval =0.04\n",
    "# sig lvl = 0.05\n",
    "# pval< sig lvl . Ha is selected\n",
    "# skew != 0 (Data is not normal)"
   ]
  },
  {
   "cell_type": "code",
   "execution_count": 126,
   "metadata": {
    "scrolled": true
   },
   "outputs": [
    {
     "data": {
      "text/plain": [
       "ShapiroResult(statistic=0.7419655323028564, pvalue=0.025034615769982338)"
      ]
     },
     "execution_count": 126,
     "metadata": {},
     "output_type": "execute_result"
    }
   ],
   "source": [
    "stats.shapiro(visionfirst)"
   ]
  },
  {
   "cell_type": "code",
   "execution_count": 127,
   "metadata": {},
   "outputs": [],
   "source": [
    "# pval =0.25\n",
    "# sig lvl = 0.05\n",
    "# pval > sig lvl . Ho is selected\n",
    "# skew = 0 (Data is  normal)"
   ]
  },
  {
   "cell_type": "code",
   "execution_count": 128,
   "metadata": {},
   "outputs": [],
   "source": [
    "# Any one sample is not normal. non parametric needs to be done."
   ]
  },
  {
   "cell_type": "code",
   "execution_count": 129,
   "metadata": {},
   "outputs": [
    {
     "data": {
      "text/plain": [
       "(6.45, 6.2)"
      ]
     },
     "execution_count": 129,
     "metadata": {},
     "output_type": "execute_result"
    }
   ],
   "source": [
    "np.median(eyecare),np.median(visionfirst)"
   ]
  },
  {
   "cell_type": "code",
   "execution_count": null,
   "metadata": {},
   "outputs": [],
   "source": [
    "# Ho : median of eyecare = median of visionfirst\n",
    "# Ha : median of eyecare != median of visionfirst"
   ]
  },
  {
   "cell_type": "code",
   "execution_count": 131,
   "metadata": {},
   "outputs": [
    {
     "name": "stdout",
     "output_type": "stream",
     "text": [
      "Test statistic: 5.0\n",
      "Pval: 0.07122834869704933\n"
     ]
    }
   ],
   "source": [
    "tstat,twosid_pval = stats.mannwhitneyu(eyecare,visionfirst)\n",
    "print('Test statistic:',tstat)\n",
    "print('Pval:',twosid_pval)"
   ]
  },
  {
   "cell_type": "code",
   "execution_count": null,
   "metadata": {},
   "outputs": [],
   "source": [
    "# pval = 0.07\n",
    "# sig lvl =0.05\n",
    "# pval > sig lvl\n",
    "# Ho is not rejected. \n",
    "# Median of eyecare timilol content is equal to median of vision care timilol \n",
    "# content."
   ]
  }
 ],
 "metadata": {
  "kernelspec": {
   "display_name": "Python 3",
   "language": "python",
   "name": "python3"
  },
  "language_info": {
   "codemirror_mode": {
    "name": "ipython",
    "version": 3
   },
   "file_extension": ".py",
   "mimetype": "text/x-python",
   "name": "python",
   "nbconvert_exporter": "python",
   "pygments_lexer": "ipython3",
   "version": "3.8.5"
  }
 },
 "nbformat": 4,
 "nbformat_minor": 2
}
